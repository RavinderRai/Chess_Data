{
 "cells": [
  {
   "cell_type": "markdown",
   "metadata": {},
   "source": [
    "# Data Wrangling\n",
    "\n",
    "Starting off this data wrangling process, we will of course gather the data first. It comes from just one csv file named \"games.csv\", originating from Kaggle (https://www.kaggle.com/datasets/datasnaek/chess?select=games.csv). This dataset has information on over 20000 chess games from Lichess. The ultimate goal is to uncover useful information that can help revise a players chess strategies to improve their chances of victory."
   ]
  },
  {
   "cell_type": "markdown",
   "metadata": {},
   "source": [
    "## Data Collection"
   ]
  },
  {
   "cell_type": "code",
   "execution_count": 1,
   "metadata": {},
   "outputs": [],
   "source": [
    "#importing all necessary libraries\n",
    "import numpy as np\n",
    "import pandas as pd\n",
    "from collections import Counter\n",
    "import matplotlib.pyplot as plt\n",
    "from matplotlib.pyplot import figure"
   ]
  },
  {
   "cell_type": "code",
   "execution_count": 2,
   "metadata": {},
   "outputs": [
    {
     "data": {
      "text/html": [
       "<div>\n",
       "<style scoped>\n",
       "    .dataframe tbody tr th:only-of-type {\n",
       "        vertical-align: middle;\n",
       "    }\n",
       "\n",
       "    .dataframe tbody tr th {\n",
       "        vertical-align: top;\n",
       "    }\n",
       "\n",
       "    .dataframe thead th {\n",
       "        text-align: right;\n",
       "    }\n",
       "</style>\n",
       "<table border=\"1\" class=\"dataframe\">\n",
       "  <thead>\n",
       "    <tr style=\"text-align: right;\">\n",
       "      <th></th>\n",
       "      <th>id</th>\n",
       "      <th>rated</th>\n",
       "      <th>created_at</th>\n",
       "      <th>last_move_at</th>\n",
       "      <th>turns</th>\n",
       "      <th>victory_status</th>\n",
       "      <th>winner</th>\n",
       "      <th>increment_code</th>\n",
       "      <th>white_id</th>\n",
       "      <th>white_rating</th>\n",
       "      <th>black_id</th>\n",
       "      <th>black_rating</th>\n",
       "      <th>moves</th>\n",
       "      <th>opening_eco</th>\n",
       "      <th>opening_name</th>\n",
       "      <th>opening_ply</th>\n",
       "    </tr>\n",
       "  </thead>\n",
       "  <tbody>\n",
       "    <tr>\n",
       "      <th>0</th>\n",
       "      <td>TZJHLljE</td>\n",
       "      <td>False</td>\n",
       "      <td>1.504210e+12</td>\n",
       "      <td>1.504210e+12</td>\n",
       "      <td>13</td>\n",
       "      <td>outoftime</td>\n",
       "      <td>white</td>\n",
       "      <td>15+2</td>\n",
       "      <td>bourgris</td>\n",
       "      <td>1500</td>\n",
       "      <td>a-00</td>\n",
       "      <td>1191</td>\n",
       "      <td>d4 d5 c4 c6 cxd5 e6 dxe6 fxe6 Nf3 Bb4+ Nc3 Ba5...</td>\n",
       "      <td>D10</td>\n",
       "      <td>Slav Defense: Exchange Variation</td>\n",
       "      <td>5</td>\n",
       "    </tr>\n",
       "    <tr>\n",
       "      <th>1</th>\n",
       "      <td>l1NXvwaE</td>\n",
       "      <td>True</td>\n",
       "      <td>1.504130e+12</td>\n",
       "      <td>1.504130e+12</td>\n",
       "      <td>16</td>\n",
       "      <td>resign</td>\n",
       "      <td>black</td>\n",
       "      <td>5+10</td>\n",
       "      <td>a-00</td>\n",
       "      <td>1322</td>\n",
       "      <td>skinnerua</td>\n",
       "      <td>1261</td>\n",
       "      <td>d4 Nc6 e4 e5 f4 f6 dxe5 fxe5 fxe5 Nxe5 Qd4 Nc6...</td>\n",
       "      <td>B00</td>\n",
       "      <td>Nimzowitsch Defense: Kennedy Variation</td>\n",
       "      <td>4</td>\n",
       "    </tr>\n",
       "    <tr>\n",
       "      <th>2</th>\n",
       "      <td>mIICvQHh</td>\n",
       "      <td>True</td>\n",
       "      <td>1.504130e+12</td>\n",
       "      <td>1.504130e+12</td>\n",
       "      <td>61</td>\n",
       "      <td>mate</td>\n",
       "      <td>white</td>\n",
       "      <td>5+10</td>\n",
       "      <td>ischia</td>\n",
       "      <td>1496</td>\n",
       "      <td>a-00</td>\n",
       "      <td>1500</td>\n",
       "      <td>e4 e5 d3 d6 Be3 c6 Be2 b5 Nd2 a5 a4 c5 axb5 Nc...</td>\n",
       "      <td>C20</td>\n",
       "      <td>King's Pawn Game: Leonardis Variation</td>\n",
       "      <td>3</td>\n",
       "    </tr>\n",
       "    <tr>\n",
       "      <th>3</th>\n",
       "      <td>kWKvrqYL</td>\n",
       "      <td>True</td>\n",
       "      <td>1.504110e+12</td>\n",
       "      <td>1.504110e+12</td>\n",
       "      <td>61</td>\n",
       "      <td>mate</td>\n",
       "      <td>white</td>\n",
       "      <td>20+0</td>\n",
       "      <td>daniamurashov</td>\n",
       "      <td>1439</td>\n",
       "      <td>adivanov2009</td>\n",
       "      <td>1454</td>\n",
       "      <td>d4 d5 Nf3 Bf5 Nc3 Nf6 Bf4 Ng4 e3 Nc6 Be2 Qd7 O...</td>\n",
       "      <td>D02</td>\n",
       "      <td>Queen's Pawn Game: Zukertort Variation</td>\n",
       "      <td>3</td>\n",
       "    </tr>\n",
       "    <tr>\n",
       "      <th>4</th>\n",
       "      <td>9tXo1AUZ</td>\n",
       "      <td>True</td>\n",
       "      <td>1.504030e+12</td>\n",
       "      <td>1.504030e+12</td>\n",
       "      <td>95</td>\n",
       "      <td>mate</td>\n",
       "      <td>white</td>\n",
       "      <td>30+3</td>\n",
       "      <td>nik221107</td>\n",
       "      <td>1523</td>\n",
       "      <td>adivanov2009</td>\n",
       "      <td>1469</td>\n",
       "      <td>e4 e5 Nf3 d6 d4 Nc6 d5 Nb4 a3 Na6 Nc3 Be7 b4 N...</td>\n",
       "      <td>C41</td>\n",
       "      <td>Philidor Defense</td>\n",
       "      <td>5</td>\n",
       "    </tr>\n",
       "  </tbody>\n",
       "</table>\n",
       "</div>"
      ],
      "text/plain": [
       "         id  rated    created_at  last_move_at  turns victory_status winner  \\\n",
       "0  TZJHLljE  False  1.504210e+12  1.504210e+12     13      outoftime  white   \n",
       "1  l1NXvwaE   True  1.504130e+12  1.504130e+12     16         resign  black   \n",
       "2  mIICvQHh   True  1.504130e+12  1.504130e+12     61           mate  white   \n",
       "3  kWKvrqYL   True  1.504110e+12  1.504110e+12     61           mate  white   \n",
       "4  9tXo1AUZ   True  1.504030e+12  1.504030e+12     95           mate  white   \n",
       "\n",
       "  increment_code       white_id  white_rating      black_id  black_rating  \\\n",
       "0           15+2       bourgris          1500          a-00          1191   \n",
       "1           5+10           a-00          1322     skinnerua          1261   \n",
       "2           5+10         ischia          1496          a-00          1500   \n",
       "3           20+0  daniamurashov          1439  adivanov2009          1454   \n",
       "4           30+3      nik221107          1523  adivanov2009          1469   \n",
       "\n",
       "                                               moves opening_eco  \\\n",
       "0  d4 d5 c4 c6 cxd5 e6 dxe6 fxe6 Nf3 Bb4+ Nc3 Ba5...         D10   \n",
       "1  d4 Nc6 e4 e5 f4 f6 dxe5 fxe5 fxe5 Nxe5 Qd4 Nc6...         B00   \n",
       "2  e4 e5 d3 d6 Be3 c6 Be2 b5 Nd2 a5 a4 c5 axb5 Nc...         C20   \n",
       "3  d4 d5 Nf3 Bf5 Nc3 Nf6 Bf4 Ng4 e3 Nc6 Be2 Qd7 O...         D02   \n",
       "4  e4 e5 Nf3 d6 d4 Nc6 d5 Nb4 a3 Na6 Nc3 Be7 b4 N...         C41   \n",
       "\n",
       "                             opening_name  opening_ply  \n",
       "0        Slav Defense: Exchange Variation            5  \n",
       "1  Nimzowitsch Defense: Kennedy Variation            4  \n",
       "2   King's Pawn Game: Leonardis Variation            3  \n",
       "3  Queen's Pawn Game: Zukertort Variation            3  \n",
       "4                        Philidor Defense            5  "
      ]
     },
     "execution_count": 2,
     "metadata": {},
     "output_type": "execute_result"
    }
   ],
   "source": [
    "chess_df = pd.read_csv('games.csv')\n",
    "chess_df.head()"
   ]
  },
  {
   "cell_type": "code",
   "execution_count": 3,
   "metadata": {},
   "outputs": [
    {
     "data": {
      "text/plain": [
       "[1504130000000.0]"
      ]
     },
     "execution_count": 3,
     "metadata": {},
     "output_type": "execute_result"
    }
   ],
   "source": [
    "chess_df[chess_df['id'] == 'l1NXvwaE']['created_at'].tolist()"
   ]
  },
  {
   "cell_type": "code",
   "execution_count": 4,
   "metadata": {},
   "outputs": [
    {
     "data": {
      "text/plain": [
       "[1504130000000.0]"
      ]
     },
     "execution_count": 4,
     "metadata": {},
     "output_type": "execute_result"
    }
   ],
   "source": [
    "chess_df[chess_df['id'] == 'l1NXvwaE']['last_move_at'].tolist()"
   ]
  },
  {
   "cell_type": "markdown",
   "metadata": {},
   "source": [
    "## Data Definition"
   ]
  },
  {
   "cell_type": "code",
   "execution_count": 5,
   "metadata": {},
   "outputs": [
    {
     "data": {
      "text/plain": [
       "(20058, 16)"
      ]
     },
     "execution_count": 5,
     "metadata": {},
     "output_type": "execute_result"
    }
   ],
   "source": [
    "chess_df.shape"
   ]
  },
  {
   "cell_type": "code",
   "execution_count": 6,
   "metadata": {},
   "outputs": [
    {
     "name": "stdout",
     "output_type": "stream",
     "text": [
      "<class 'pandas.core.frame.DataFrame'>\n",
      "RangeIndex: 20058 entries, 0 to 20057\n",
      "Data columns (total 16 columns):\n",
      " #   Column          Non-Null Count  Dtype  \n",
      "---  ------          --------------  -----  \n",
      " 0   id              20058 non-null  object \n",
      " 1   rated           20058 non-null  bool   \n",
      " 2   created_at      20058 non-null  float64\n",
      " 3   last_move_at    20058 non-null  float64\n",
      " 4   turns           20058 non-null  int64  \n",
      " 5   victory_status  20058 non-null  object \n",
      " 6   winner          20058 non-null  object \n",
      " 7   increment_code  20058 non-null  object \n",
      " 8   white_id        20058 non-null  object \n",
      " 9   white_rating    20058 non-null  int64  \n",
      " 10  black_id        20058 non-null  object \n",
      " 11  black_rating    20058 non-null  int64  \n",
      " 12  moves           20058 non-null  object \n",
      " 13  opening_eco     20058 non-null  object \n",
      " 14  opening_name    20058 non-null  object \n",
      " 15  opening_ply     20058 non-null  int64  \n",
      "dtypes: bool(1), float64(2), int64(4), object(9)\n",
      "memory usage: 2.3+ MB\n"
     ]
    }
   ],
   "source": [
    "chess_df.info()"
   ]
  },
  {
   "cell_type": "markdown",
   "metadata": {},
   "source": [
    "So there are no null values for any feature. Also most features are objects, one is a boolean, and the rest floats or integers. \n",
    "\n",
    "The column names with explanation are as follows:\n",
    "\n",
    "1. **id** - generic 8-digit id for each game\n",
    "2. **rated** - whether or not the game was a rated game (True), or just a casual game (False)\n",
    "3. **created_at** - the start time (milliseconds from 1970, Jan 1st)\n",
    "4. **last_move_at** - the end time (milliseconds from 1970, Jan 1st)\n",
    "5. **turns** - the total number of turns until the game ended, including turns of both players\n",
    "6. **victory_status** - method of victory\n",
    "7. **winner** - which player won\n",
    "8. **increment_code** - the time alloted (minutes) and time increment (seconds)\n",
    "9. **white_id** - player id for the player who played as white\n",
    "10. **white_rating** - player rating for the player who played as white\n",
    "11. **black_id** - player id for the player who played as black\n",
    "12. **black_rating** - player rating for the player who played as black\n",
    "13. **moves** - all moves performed throughout the game, in standard chess notation (explanation here: https://blog.chesshouse.com/how-to-read-and-write-algebraic-chess-notation/)\n",
    "14. **opening_eco** - the pening eco, a standardized code for any opening\n",
    "15. **opening_name** - the opening name\n",
    "16. **opening_ply** - the number of moves in the opening phase\n",
    "\n",
    "Now let's check how many unique values there are for each feature."
   ]
  },
  {
   "cell_type": "code",
   "execution_count": 7,
   "metadata": {},
   "outputs": [
    {
     "data": {
      "text/plain": [
       "id                19113\n",
       "rated                 2\n",
       "created_at        13151\n",
       "last_move_at      13186\n",
       "turns               211\n",
       "victory_status        4\n",
       "winner                3\n",
       "increment_code      400\n",
       "white_id           9438\n",
       "white_rating       1516\n",
       "black_id           9331\n",
       "black_rating       1521\n",
       "moves             18920\n",
       "opening_eco         365\n",
       "opening_name       1477\n",
       "opening_ply          23\n",
       "dtype: int64"
      ]
     },
     "execution_count": 7,
     "metadata": {},
     "output_type": "execute_result"
    }
   ],
   "source": [
    "chess_df.nunique()"
   ]
  },
  {
   "cell_type": "markdown",
   "metadata": {},
   "source": [
    "Let's look at unique values for the features with less than 5 unique values, except for rated, since we already know it has boolean values, i.e. True or False."
   ]
  },
  {
   "cell_type": "code",
   "execution_count": 8,
   "metadata": {},
   "outputs": [
    {
     "data": {
      "text/plain": [
       "array(['outoftime', 'resign', 'mate', 'draw'], dtype=object)"
      ]
     },
     "execution_count": 8,
     "metadata": {},
     "output_type": "execute_result"
    }
   ],
   "source": [
    "pd.unique(chess_df['victory_status'])"
   ]
  },
  {
   "cell_type": "code",
   "execution_count": 9,
   "metadata": {},
   "outputs": [
    {
     "data": {
      "text/plain": [
       "array(['white', 'black', 'draw'], dtype=object)"
      ]
     },
     "execution_count": 9,
     "metadata": {},
     "output_type": "execute_result"
    }
   ],
   "source": [
    "pd.unique(chess_df['winner'])"
   ]
  },
  {
   "cell_type": "markdown",
   "metadata": {},
   "source": [
    "So victory can occur due to loss of time, a player resigned, or a player achieved check mate. Also, a draw is another possible outcome for a game. In chess a draw is not considered a win or a loss for either player, so it should not be used as a victory outcome later on. \n",
    "\n",
    "Naturally, the winner feature has three intuitive categories, namely, white, black, or draw."
   ]
  },
  {
   "cell_type": "code",
   "execution_count": 10,
   "metadata": {},
   "outputs": [
    {
     "data": {
      "text/html": [
       "<div>\n",
       "<style scoped>\n",
       "    .dataframe tbody tr th:only-of-type {\n",
       "        vertical-align: middle;\n",
       "    }\n",
       "\n",
       "    .dataframe tbody tr th {\n",
       "        vertical-align: top;\n",
       "    }\n",
       "\n",
       "    .dataframe thead th {\n",
       "        text-align: right;\n",
       "    }\n",
       "</style>\n",
       "<table border=\"1\" class=\"dataframe\">\n",
       "  <thead>\n",
       "    <tr style=\"text-align: right;\">\n",
       "      <th></th>\n",
       "      <th>created_at</th>\n",
       "      <th>last_move_at</th>\n",
       "      <th>turns</th>\n",
       "      <th>white_rating</th>\n",
       "      <th>black_rating</th>\n",
       "      <th>opening_ply</th>\n",
       "    </tr>\n",
       "  </thead>\n",
       "  <tbody>\n",
       "    <tr>\n",
       "      <th>count</th>\n",
       "      <td>2.005800e+04</td>\n",
       "      <td>2.005800e+04</td>\n",
       "      <td>20058.000000</td>\n",
       "      <td>20058.000000</td>\n",
       "      <td>20058.000000</td>\n",
       "      <td>20058.000000</td>\n",
       "    </tr>\n",
       "    <tr>\n",
       "      <th>mean</th>\n",
       "      <td>1.483617e+12</td>\n",
       "      <td>1.483618e+12</td>\n",
       "      <td>60.465999</td>\n",
       "      <td>1596.631868</td>\n",
       "      <td>1588.831987</td>\n",
       "      <td>4.816981</td>\n",
       "    </tr>\n",
       "    <tr>\n",
       "      <th>std</th>\n",
       "      <td>2.850151e+10</td>\n",
       "      <td>2.850140e+10</td>\n",
       "      <td>33.570585</td>\n",
       "      <td>291.253376</td>\n",
       "      <td>291.036126</td>\n",
       "      <td>2.797152</td>\n",
       "    </tr>\n",
       "    <tr>\n",
       "      <th>min</th>\n",
       "      <td>1.376772e+12</td>\n",
       "      <td>1.376772e+12</td>\n",
       "      <td>1.000000</td>\n",
       "      <td>784.000000</td>\n",
       "      <td>789.000000</td>\n",
       "      <td>1.000000</td>\n",
       "    </tr>\n",
       "    <tr>\n",
       "      <th>25%</th>\n",
       "      <td>1.477548e+12</td>\n",
       "      <td>1.477548e+12</td>\n",
       "      <td>37.000000</td>\n",
       "      <td>1398.000000</td>\n",
       "      <td>1391.000000</td>\n",
       "      <td>3.000000</td>\n",
       "    </tr>\n",
       "    <tr>\n",
       "      <th>50%</th>\n",
       "      <td>1.496010e+12</td>\n",
       "      <td>1.496010e+12</td>\n",
       "      <td>55.000000</td>\n",
       "      <td>1567.000000</td>\n",
       "      <td>1562.000000</td>\n",
       "      <td>4.000000</td>\n",
       "    </tr>\n",
       "    <tr>\n",
       "      <th>75%</th>\n",
       "      <td>1.503170e+12</td>\n",
       "      <td>1.503170e+12</td>\n",
       "      <td>79.000000</td>\n",
       "      <td>1793.000000</td>\n",
       "      <td>1784.000000</td>\n",
       "      <td>6.000000</td>\n",
       "    </tr>\n",
       "    <tr>\n",
       "      <th>max</th>\n",
       "      <td>1.504493e+12</td>\n",
       "      <td>1.504494e+12</td>\n",
       "      <td>349.000000</td>\n",
       "      <td>2700.000000</td>\n",
       "      <td>2723.000000</td>\n",
       "      <td>28.000000</td>\n",
       "    </tr>\n",
       "  </tbody>\n",
       "</table>\n",
       "</div>"
      ],
      "text/plain": [
       "         created_at  last_move_at         turns  white_rating  black_rating  \\\n",
       "count  2.005800e+04  2.005800e+04  20058.000000  20058.000000  20058.000000   \n",
       "mean   1.483617e+12  1.483618e+12     60.465999   1596.631868   1588.831987   \n",
       "std    2.850151e+10  2.850140e+10     33.570585    291.253376    291.036126   \n",
       "min    1.376772e+12  1.376772e+12      1.000000    784.000000    789.000000   \n",
       "25%    1.477548e+12  1.477548e+12     37.000000   1398.000000   1391.000000   \n",
       "50%    1.496010e+12  1.496010e+12     55.000000   1567.000000   1562.000000   \n",
       "75%    1.503170e+12  1.503170e+12     79.000000   1793.000000   1784.000000   \n",
       "max    1.504493e+12  1.504494e+12    349.000000   2700.000000   2723.000000   \n",
       "\n",
       "        opening_ply  \n",
       "count  20058.000000  \n",
       "mean       4.816981  \n",
       "std        2.797152  \n",
       "min        1.000000  \n",
       "25%        3.000000  \n",
       "50%        4.000000  \n",
       "75%        6.000000  \n",
       "max       28.000000  "
      ]
     },
     "execution_count": 10,
     "metadata": {},
     "output_type": "execute_result"
    }
   ],
   "source": [
    "chess_df.describe()"
   ]
  },
  {
   "cell_type": "markdown",
   "metadata": {},
   "source": [
    "Some things to note here, is that again, there seems to be no missing data from the these 6 features. The white and black rating have almost identical ranges, as is expected from chess scores. More notably though, the turns and opening_ply features have max's that are significantly larger than the mean+std, so they might be outliers. "
   ]
  },
  {
   "cell_type": "markdown",
   "metadata": {},
   "source": [
    "## Data Cleaning\n",
    "\n",
    "### Null Values"
   ]
  },
  {
   "cell_type": "code",
   "execution_count": 11,
   "metadata": {},
   "outputs": [
    {
     "data": {
      "text/plain": [
       "False"
      ]
     },
     "execution_count": 11,
     "metadata": {},
     "output_type": "execute_result"
    }
   ],
   "source": [
    "#From the info method above, you could see that there are no null values, but let's double check\n",
    "chess_df.isnull().values.any()"
   ]
  },
  {
   "cell_type": "markdown",
   "metadata": {},
   "source": [
    "### Duplicates\n",
    "\n",
    "The dataset has 20058 rows, or rather chess games, but only 19113 rows with unique id values. This indicates that there should be 945 duplicate rows."
   ]
  },
  {
   "cell_type": "code",
   "execution_count": 12,
   "metadata": {},
   "outputs": [
    {
     "data": {
      "text/html": [
       "<div>\n",
       "<style scoped>\n",
       "    .dataframe tbody tr th:only-of-type {\n",
       "        vertical-align: middle;\n",
       "    }\n",
       "\n",
       "    .dataframe tbody tr th {\n",
       "        vertical-align: top;\n",
       "    }\n",
       "\n",
       "    .dataframe thead th {\n",
       "        text-align: right;\n",
       "    }\n",
       "</style>\n",
       "<table border=\"1\" class=\"dataframe\">\n",
       "  <thead>\n",
       "    <tr style=\"text-align: right;\">\n",
       "      <th></th>\n",
       "      <th>id</th>\n",
       "      <th>rated</th>\n",
       "      <th>created_at</th>\n",
       "      <th>last_move_at</th>\n",
       "      <th>turns</th>\n",
       "      <th>victory_status</th>\n",
       "      <th>winner</th>\n",
       "      <th>increment_code</th>\n",
       "      <th>white_id</th>\n",
       "      <th>white_rating</th>\n",
       "      <th>black_id</th>\n",
       "      <th>black_rating</th>\n",
       "      <th>moves</th>\n",
       "      <th>opening_eco</th>\n",
       "      <th>opening_name</th>\n",
       "      <th>opening_ply</th>\n",
       "    </tr>\n",
       "  </thead>\n",
       "  <tbody>\n",
       "    <tr>\n",
       "      <th>950</th>\n",
       "      <td>XRuQPSzH</td>\n",
       "      <td>True</td>\n",
       "      <td>1.503580e+12</td>\n",
       "      <td>1.503580e+12</td>\n",
       "      <td>50</td>\n",
       "      <td>resign</td>\n",
       "      <td>black</td>\n",
       "      <td>10+0</td>\n",
       "      <td>chess-brahs</td>\n",
       "      <td>2036</td>\n",
       "      <td>cdvh</td>\n",
       "      <td>1706</td>\n",
       "      <td>Nf3 d5 g3 c5 Bg2 Nc6 d3 Nf6 O-O e5 Nc3 d4 Ne4 ...</td>\n",
       "      <td>A08</td>\n",
       "      <td>King's Indian Attack: French Variation</td>\n",
       "      <td>6</td>\n",
       "    </tr>\n",
       "    <tr>\n",
       "      <th>1794</th>\n",
       "      <td>x1Svcl0P</td>\n",
       "      <td>True</td>\n",
       "      <td>1.499820e+12</td>\n",
       "      <td>1.499830e+12</td>\n",
       "      <td>59</td>\n",
       "      <td>mate</td>\n",
       "      <td>white</td>\n",
       "      <td>10+0</td>\n",
       "      <td>kachess10204542</td>\n",
       "      <td>1171</td>\n",
       "      <td>quantummequanic</td>\n",
       "      <td>1432</td>\n",
       "      <td>c4 e5 Nc3 Nf6 Nf3 Nc6 g3 d5 cxd5 Nxd5 Bg2 Be6 ...</td>\n",
       "      <td>A29</td>\n",
       "      <td>English Opening: King's English Variation |  F...</td>\n",
       "      <td>7</td>\n",
       "    </tr>\n",
       "    <tr>\n",
       "      <th>1830</th>\n",
       "      <td>wgIHzqDo</td>\n",
       "      <td>True</td>\n",
       "      <td>1.499710e+12</td>\n",
       "      <td>1.499710e+12</td>\n",
       "      <td>113</td>\n",
       "      <td>mate</td>\n",
       "      <td>white</td>\n",
       "      <td>10+0</td>\n",
       "      <td>quantummequanic</td>\n",
       "      <td>1403</td>\n",
       "      <td>barrow-wight</td>\n",
       "      <td>1364</td>\n",
       "      <td>e4 e6 e5 Bc5 d4 Be7 c3 Nh6 Bxh6 gxh6 Qd2 Bg5 f...</td>\n",
       "      <td>C00</td>\n",
       "      <td>French Defense: Steinitz Attack</td>\n",
       "      <td>3</td>\n",
       "    </tr>\n",
       "    <tr>\n",
       "      <th>2554</th>\n",
       "      <td>JrFxlGZo</td>\n",
       "      <td>False</td>\n",
       "      <td>1.489330e+12</td>\n",
       "      <td>1.489330e+12</td>\n",
       "      <td>78</td>\n",
       "      <td>mate</td>\n",
       "      <td>black</td>\n",
       "      <td>15+0</td>\n",
       "      <td>sp37578</td>\n",
       "      <td>1309</td>\n",
       "      <td>penguin100</td>\n",
       "      <td>1393</td>\n",
       "      <td>e4 d5 exd5 Qxd5 Nc3 Qe6+ Qe2 Qc6 d3 Bf5 Qf3 Be...</td>\n",
       "      <td>B01</td>\n",
       "      <td>Scandinavian Defense: Mieses-Kotroc Variation</td>\n",
       "      <td>4</td>\n",
       "    </tr>\n",
       "    <tr>\n",
       "      <th>2556</th>\n",
       "      <td>ezKACesj</td>\n",
       "      <td>False</td>\n",
       "      <td>1.488840e+12</td>\n",
       "      <td>1.488840e+12</td>\n",
       "      <td>51</td>\n",
       "      <td>mate</td>\n",
       "      <td>white</td>\n",
       "      <td>15+0</td>\n",
       "      <td>penguin100</td>\n",
       "      <td>1393</td>\n",
       "      <td>sp37578</td>\n",
       "      <td>1309</td>\n",
       "      <td>d4 d5 e3 Nf6 Nf3 b6 Nc3 Bb7 Bb5+ Nc6 Ne5 e6 O-...</td>\n",
       "      <td>D04</td>\n",
       "      <td>Queen's Pawn Game: Colle System</td>\n",
       "      <td>5</td>\n",
       "    </tr>\n",
       "  </tbody>\n",
       "</table>\n",
       "</div>"
      ],
      "text/plain": [
       "            id  rated    created_at  last_move_at  turns victory_status  \\\n",
       "950   XRuQPSzH   True  1.503580e+12  1.503580e+12     50         resign   \n",
       "1794  x1Svcl0P   True  1.499820e+12  1.499830e+12     59           mate   \n",
       "1830  wgIHzqDo   True  1.499710e+12  1.499710e+12    113           mate   \n",
       "2554  JrFxlGZo  False  1.489330e+12  1.489330e+12     78           mate   \n",
       "2556  ezKACesj  False  1.488840e+12  1.488840e+12     51           mate   \n",
       "\n",
       "     winner increment_code         white_id  white_rating         black_id  \\\n",
       "950   black           10+0      chess-brahs          2036             cdvh   \n",
       "1794  white           10+0  kachess10204542          1171  quantummequanic   \n",
       "1830  white           10+0  quantummequanic          1403     barrow-wight   \n",
       "2554  black           15+0          sp37578          1309       penguin100   \n",
       "2556  white           15+0       penguin100          1393          sp37578   \n",
       "\n",
       "      black_rating                                              moves  \\\n",
       "950           1706  Nf3 d5 g3 c5 Bg2 Nc6 d3 Nf6 O-O e5 Nc3 d4 Ne4 ...   \n",
       "1794          1432  c4 e5 Nc3 Nf6 Nf3 Nc6 g3 d5 cxd5 Nxd5 Bg2 Be6 ...   \n",
       "1830          1364  e4 e6 e5 Bc5 d4 Be7 c3 Nh6 Bxh6 gxh6 Qd2 Bg5 f...   \n",
       "2554          1393  e4 d5 exd5 Qxd5 Nc3 Qe6+ Qe2 Qc6 d3 Bf5 Qf3 Be...   \n",
       "2556          1309  d4 d5 e3 Nf6 Nf3 b6 Nc3 Bb7 Bb5+ Nc6 Ne5 e6 O-...   \n",
       "\n",
       "     opening_eco                                       opening_name  \\\n",
       "950          A08             King's Indian Attack: French Variation   \n",
       "1794         A29  English Opening: King's English Variation |  F...   \n",
       "1830         C00                    French Defense: Steinitz Attack   \n",
       "2554         B01      Scandinavian Defense: Mieses-Kotroc Variation   \n",
       "2556         D04                    Queen's Pawn Game: Colle System   \n",
       "\n",
       "      opening_ply  \n",
       "950             6  \n",
       "1794            7  \n",
       "1830            3  \n",
       "2554            4  \n",
       "2556            5  "
      ]
     },
     "execution_count": 12,
     "metadata": {},
     "output_type": "execute_result"
    }
   ],
   "source": [
    "chess_df[chess_df.duplicated()].head()"
   ]
  },
  {
   "cell_type": "code",
   "execution_count": 13,
   "metadata": {},
   "outputs": [
    {
     "data": {
      "text/plain": [
       "(945, 16)"
      ]
     },
     "execution_count": 13,
     "metadata": {},
     "output_type": "execute_result"
    }
   ],
   "source": [
    "chess_df[chess_df.duplicated(subset='id')].shape"
   ]
  },
  {
   "cell_type": "code",
   "execution_count": 14,
   "metadata": {},
   "outputs": [
    {
     "data": {
      "text/plain": [
       "(429, 16)"
      ]
     },
     "execution_count": 14,
     "metadata": {},
     "output_type": "execute_result"
    }
   ],
   "source": [
    "chess_df[chess_df.duplicated()].shape"
   ]
  },
  {
   "cell_type": "markdown",
   "metadata": {},
   "source": [
    "So there are 945 duplicate 'id' values, but not in general. Let's investigate a special case:"
   ]
  },
  {
   "cell_type": "code",
   "execution_count": 15,
   "metadata": {},
   "outputs": [
    {
     "data": {
      "text/plain": [
       "120      False\n",
       "950       True\n",
       "12412    False\n",
       "13729     True\n",
       "14403     True\n",
       "dtype: bool"
      ]
     },
     "execution_count": 15,
     "metadata": {},
     "output_type": "execute_result"
    }
   ],
   "source": [
    "chess_df[chess_df['id'] == 'XRuQPSzH'].duplicated()"
   ]
  },
  {
   "cell_type": "code",
   "execution_count": 16,
   "metadata": {},
   "outputs": [
    {
     "data": {
      "text/html": [
       "<div>\n",
       "<style scoped>\n",
       "    .dataframe tbody tr th:only-of-type {\n",
       "        vertical-align: middle;\n",
       "    }\n",
       "\n",
       "    .dataframe tbody tr th {\n",
       "        vertical-align: top;\n",
       "    }\n",
       "\n",
       "    .dataframe thead th {\n",
       "        text-align: right;\n",
       "    }\n",
       "</style>\n",
       "<table border=\"1\" class=\"dataframe\">\n",
       "  <thead>\n",
       "    <tr style=\"text-align: right;\">\n",
       "      <th></th>\n",
       "      <th>id</th>\n",
       "      <th>rated</th>\n",
       "      <th>created_at</th>\n",
       "      <th>last_move_at</th>\n",
       "      <th>turns</th>\n",
       "      <th>victory_status</th>\n",
       "      <th>winner</th>\n",
       "      <th>increment_code</th>\n",
       "      <th>white_id</th>\n",
       "      <th>white_rating</th>\n",
       "      <th>black_id</th>\n",
       "      <th>black_rating</th>\n",
       "      <th>moves</th>\n",
       "      <th>opening_eco</th>\n",
       "      <th>opening_name</th>\n",
       "      <th>opening_ply</th>\n",
       "    </tr>\n",
       "  </thead>\n",
       "  <tbody>\n",
       "    <tr>\n",
       "      <th>120</th>\n",
       "      <td>XRuQPSzH</td>\n",
       "      <td>True</td>\n",
       "      <td>1.503580e+12</td>\n",
       "      <td>1.503580e+12</td>\n",
       "      <td>50</td>\n",
       "      <td>resign</td>\n",
       "      <td>black</td>\n",
       "      <td>10+0</td>\n",
       "      <td>chess-brahs</td>\n",
       "      <td>2036</td>\n",
       "      <td>cdvh</td>\n",
       "      <td>1706</td>\n",
       "      <td>Nf3 d5 g3 c5 Bg2 Nc6 d3 Nf6 O-O e5 Nc3 d4 Ne4 ...</td>\n",
       "      <td>A08</td>\n",
       "      <td>King's Indian Attack: French Variation</td>\n",
       "      <td>6</td>\n",
       "    </tr>\n",
       "    <tr>\n",
       "      <th>950</th>\n",
       "      <td>XRuQPSzH</td>\n",
       "      <td>True</td>\n",
       "      <td>1.503580e+12</td>\n",
       "      <td>1.503580e+12</td>\n",
       "      <td>50</td>\n",
       "      <td>resign</td>\n",
       "      <td>black</td>\n",
       "      <td>10+0</td>\n",
       "      <td>chess-brahs</td>\n",
       "      <td>2036</td>\n",
       "      <td>cdvh</td>\n",
       "      <td>1706</td>\n",
       "      <td>Nf3 d5 g3 c5 Bg2 Nc6 d3 Nf6 O-O e5 Nc3 d4 Ne4 ...</td>\n",
       "      <td>A08</td>\n",
       "      <td>King's Indian Attack: French Variation</td>\n",
       "      <td>6</td>\n",
       "    </tr>\n",
       "    <tr>\n",
       "      <th>12412</th>\n",
       "      <td>XRuQPSzH</td>\n",
       "      <td>True</td>\n",
       "      <td>1.503584e+12</td>\n",
       "      <td>1.503584e+12</td>\n",
       "      <td>50</td>\n",
       "      <td>resign</td>\n",
       "      <td>black</td>\n",
       "      <td>10+0</td>\n",
       "      <td>chess-brahs</td>\n",
       "      <td>2036</td>\n",
       "      <td>cdvh</td>\n",
       "      <td>1706</td>\n",
       "      <td>Nf3 d5 g3 c5 Bg2 Nc6 d3 Nf6 O-O e5 Nc3 d4 Ne4 ...</td>\n",
       "      <td>A08</td>\n",
       "      <td>King's Indian Attack: French Variation</td>\n",
       "      <td>6</td>\n",
       "    </tr>\n",
       "    <tr>\n",
       "      <th>13729</th>\n",
       "      <td>XRuQPSzH</td>\n",
       "      <td>True</td>\n",
       "      <td>1.503584e+12</td>\n",
       "      <td>1.503584e+12</td>\n",
       "      <td>50</td>\n",
       "      <td>resign</td>\n",
       "      <td>black</td>\n",
       "      <td>10+0</td>\n",
       "      <td>chess-brahs</td>\n",
       "      <td>2036</td>\n",
       "      <td>cdvh</td>\n",
       "      <td>1706</td>\n",
       "      <td>Nf3 d5 g3 c5 Bg2 Nc6 d3 Nf6 O-O e5 Nc3 d4 Ne4 ...</td>\n",
       "      <td>A08</td>\n",
       "      <td>King's Indian Attack: French Variation</td>\n",
       "      <td>6</td>\n",
       "    </tr>\n",
       "    <tr>\n",
       "      <th>14403</th>\n",
       "      <td>XRuQPSzH</td>\n",
       "      <td>True</td>\n",
       "      <td>1.503584e+12</td>\n",
       "      <td>1.503584e+12</td>\n",
       "      <td>50</td>\n",
       "      <td>resign</td>\n",
       "      <td>black</td>\n",
       "      <td>10+0</td>\n",
       "      <td>chess-brahs</td>\n",
       "      <td>2036</td>\n",
       "      <td>cdvh</td>\n",
       "      <td>1706</td>\n",
       "      <td>Nf3 d5 g3 c5 Bg2 Nc6 d3 Nf6 O-O e5 Nc3 d4 Ne4 ...</td>\n",
       "      <td>A08</td>\n",
       "      <td>King's Indian Attack: French Variation</td>\n",
       "      <td>6</td>\n",
       "    </tr>\n",
       "  </tbody>\n",
       "</table>\n",
       "</div>"
      ],
      "text/plain": [
       "             id  rated    created_at  last_move_at  turns victory_status  \\\n",
       "120    XRuQPSzH   True  1.503580e+12  1.503580e+12     50         resign   \n",
       "950    XRuQPSzH   True  1.503580e+12  1.503580e+12     50         resign   \n",
       "12412  XRuQPSzH   True  1.503584e+12  1.503584e+12     50         resign   \n",
       "13729  XRuQPSzH   True  1.503584e+12  1.503584e+12     50         resign   \n",
       "14403  XRuQPSzH   True  1.503584e+12  1.503584e+12     50         resign   \n",
       "\n",
       "      winner increment_code     white_id  white_rating black_id  black_rating  \\\n",
       "120    black           10+0  chess-brahs          2036     cdvh          1706   \n",
       "950    black           10+0  chess-brahs          2036     cdvh          1706   \n",
       "12412  black           10+0  chess-brahs          2036     cdvh          1706   \n",
       "13729  black           10+0  chess-brahs          2036     cdvh          1706   \n",
       "14403  black           10+0  chess-brahs          2036     cdvh          1706   \n",
       "\n",
       "                                                   moves opening_eco  \\\n",
       "120    Nf3 d5 g3 c5 Bg2 Nc6 d3 Nf6 O-O e5 Nc3 d4 Ne4 ...         A08   \n",
       "950    Nf3 d5 g3 c5 Bg2 Nc6 d3 Nf6 O-O e5 Nc3 d4 Ne4 ...         A08   \n",
       "12412  Nf3 d5 g3 c5 Bg2 Nc6 d3 Nf6 O-O e5 Nc3 d4 Ne4 ...         A08   \n",
       "13729  Nf3 d5 g3 c5 Bg2 Nc6 d3 Nf6 O-O e5 Nc3 d4 Ne4 ...         A08   \n",
       "14403  Nf3 d5 g3 c5 Bg2 Nc6 d3 Nf6 O-O e5 Nc3 d4 Ne4 ...         A08   \n",
       "\n",
       "                                 opening_name  opening_ply  \n",
       "120    King's Indian Attack: French Variation            6  \n",
       "950    King's Indian Attack: French Variation            6  \n",
       "12412  King's Indian Attack: French Variation            6  \n",
       "13729  King's Indian Attack: French Variation            6  \n",
       "14403  King's Indian Attack: French Variation            6  "
      ]
     },
     "execution_count": 16,
     "metadata": {},
     "output_type": "execute_result"
    }
   ],
   "source": [
    "chess_df[chess_df['id'] == 'XRuQPSzH']"
   ]
  },
  {
   "cell_type": "markdown",
   "metadata": {},
   "source": [
    "All these rows look identical, so lets take a closer look at what could be different. But first, let's introduce a list of all the different id's with duplicate rows."
   ]
  },
  {
   "cell_type": "code",
   "execution_count": 17,
   "metadata": {},
   "outputs": [
    {
     "data": {
      "text/plain": [
       "(429, 16)"
      ]
     },
     "execution_count": 17,
     "metadata": {},
     "output_type": "execute_result"
    }
   ],
   "source": [
    "dup_df = chess_df[chess_df.duplicated()]\n",
    "\n",
    "dup_lst = list(dup_df['id'].unique())\n",
    "dup_df.shape"
   ]
  },
  {
   "cell_type": "code",
   "execution_count": 18,
   "metadata": {},
   "outputs": [
    {
     "data": {
      "text/plain": [
       "id                 True\n",
       "rated              True\n",
       "created_at        False\n",
       "last_move_at      False\n",
       "turns              True\n",
       "victory_status     True\n",
       "winner             True\n",
       "increment_code     True\n",
       "white_id           True\n",
       "white_rating       True\n",
       "black_id           True\n",
       "black_rating       True\n",
       "moves              True\n",
       "opening_eco        True\n",
       "opening_name       True\n",
       "opening_ply        True\n",
       "dtype: bool"
      ]
     },
     "execution_count": 18,
     "metadata": {},
     "output_type": "execute_result"
    }
   ],
   "source": [
    "#just comparing the first and third rows first\n",
    "chess_df[chess_df['id'] == dup_lst[0]].iloc[0, :] == chess_df[chess_df['id'] == dup_lst[0]].iloc[2, :]"
   ]
  },
  {
   "cell_type": "markdown",
   "metadata": {},
   "source": [
    "So already the start and finish time features are causing the issue. Let's look into them further."
   ]
  },
  {
   "cell_type": "code",
   "execution_count": 19,
   "metadata": {},
   "outputs": [
    {
     "data": {
      "text/plain": [
       "[1503580000000.0,\n",
       " 1503580000000.0,\n",
       " 1503583909935.0,\n",
       " 1503583909935.0,\n",
       " 1503583909935.0]"
      ]
     },
     "execution_count": 19,
     "metadata": {},
     "output_type": "execute_result"
    }
   ],
   "source": [
    "chess_df[chess_df['id'] == dup_lst[0]]['created_at'].tolist()"
   ]
  },
  {
   "cell_type": "code",
   "execution_count": 20,
   "metadata": {},
   "outputs": [
    {
     "data": {
      "text/plain": [
       "[1503580000000.0,\n",
       " 1503580000000.0,\n",
       " 1503584352561.0,\n",
       " 1503584352561.0,\n",
       " 1503584352561.0]"
      ]
     },
     "execution_count": 20,
     "metadata": {},
     "output_type": "execute_result"
    }
   ],
   "source": [
    "chess_df[chess_df['id'] == dup_lst[0]]['last_move_at'].tolist()"
   ]
  },
  {
   "cell_type": "markdown",
   "metadata": {},
   "source": [
    "So clearly there is a difference in data here. These numbers were too large to catch before so we had to change the dataframe into a list to make them more readable. Let's try now to look at duplicate values in the chess dataset when we drop these two columns. If we get 945 duplicate values, then we got what we expected and that would also confirm that the `created_at` and `last_move_at` features are the only problematic features here."
   ]
  },
  {
   "cell_type": "code",
   "execution_count": 23,
   "metadata": {},
   "outputs": [
    {
     "data": {
      "text/plain": [
       "945"
      ]
     },
     "execution_count": 23,
     "metadata": {},
     "output_type": "execute_result"
    }
   ],
   "source": [
    "chess_df.drop(columns=['created_at', 'last_move_at'])\n",
    "chess_df.duplicated(subset='id').sum()"
   ]
  },
  {
   "cell_type": "markdown",
   "metadata": {},
   "source": [
    "Perfect, this means the `created_at` and `last_move_at` features are the only features left to deal with here. Naturally, each `id` refers to a unique game, so it doesn't make sense to have duplicate values, so we should remove them. It also doesn't make sense that the same game can have different sets of starting and ending times. Out of all the `created_at` and `last_move_at` pairs, it makes sense to keep the one that occurs the most. Although if you observe the first two pairs, you can see that they have the same values, which means the game was zero seconds. This obviously doesn't make sense, so this should also be considered later on."
   ]
  },
  {
   "cell_type": "code",
   "execution_count": 24,
   "metadata": {},
   "outputs": [],
   "source": [
    "#making a copy of the original dataset\n",
    "chess_df2 = chess_df.copy()\n",
    "\n",
    "#so lets loop through all id's with duplicate rows. We are going to add a new row to the bottom of the dataframe\n",
    "#this new row will have created_at and last_move_at values that are the most popular\n",
    "#then, once we have these rows, we will drop all other duplicates and keep these new ones\n",
    "for i in range(len(dup_lst)):\n",
    "    #using the counter function to count the most popular values, and order them from greatest to least\n",
    "    ord_start_times = Counter(chess_df[chess_df['id'] == dup_lst[i]]['created_at'].tolist()).most_common()\n",
    "\n",
    "    ord_end_times = Counter(chess_df[chess_df['id'] == dup_lst[i]]['last_move_at'].tolist()).most_common()\n",
    "    \n",
    "    #making out new row, using the first (doesn't matter which) row with the i'th id, to get the other column features\n",
    "    row = chess_df[chess_df['id'] == dup_lst[i]].iloc[0]\n",
    "    \n",
    "    #changing our interested feature values to the most popular ones, which is the first index here\n",
    "    #the second index requires 0 for the value, and 1 for the actual count, which we don't need here\n",
    "    row['created_at'] = ord_start_times[0][0]\n",
    "    row['last_move_at'] = ord_end_times[0][0]\n",
    "    \n",
    "    #adding the new row\n",
    "    chess_df2 = chess_df2.append(row, ignore_index=True)\n"
   ]
  },
  {
   "cell_type": "code",
   "execution_count": 25,
   "metadata": {},
   "outputs": [
    {
     "name": "stdout",
     "output_type": "stream",
     "text": [
      "The number of rows in our new dataframe: 20444\n",
      "Number of rows with duplicate ids: 386\n"
     ]
    }
   ],
   "source": [
    "print('The number of rows in our new dataframe: {}'.format(chess_df2.shape[0]))\n",
    "print('Number of rows with duplicate ids: {}'.format(len(dup_lst)))"
   ]
  },
  {
   "cell_type": "markdown",
   "metadata": {},
   "source": [
    "Now as expected, this new dataframe has 386 more rows than the original dataframe (20444-386=20058). So, now all we need to do is remove all the older duplicates and our new dataframe will be duplicate free."
   ]
  },
  {
   "cell_type": "code",
   "execution_count": 29,
   "metadata": {},
   "outputs": [
    {
     "data": {
      "text/html": [
       "<div>\n",
       "<style scoped>\n",
       "    .dataframe tbody tr th:only-of-type {\n",
       "        vertical-align: middle;\n",
       "    }\n",
       "\n",
       "    .dataframe tbody tr th {\n",
       "        vertical-align: top;\n",
       "    }\n",
       "\n",
       "    .dataframe thead th {\n",
       "        text-align: right;\n",
       "    }\n",
       "</style>\n",
       "<table border=\"1\" class=\"dataframe\">\n",
       "  <thead>\n",
       "    <tr style=\"text-align: right;\">\n",
       "      <th></th>\n",
       "      <th>id</th>\n",
       "      <th>rated</th>\n",
       "      <th>created_at</th>\n",
       "      <th>last_move_at</th>\n",
       "      <th>turns</th>\n",
       "      <th>victory_status</th>\n",
       "      <th>winner</th>\n",
       "      <th>increment_code</th>\n",
       "      <th>white_id</th>\n",
       "      <th>white_rating</th>\n",
       "      <th>black_id</th>\n",
       "      <th>black_rating</th>\n",
       "      <th>moves</th>\n",
       "      <th>opening_eco</th>\n",
       "      <th>opening_name</th>\n",
       "      <th>opening_ply</th>\n",
       "    </tr>\n",
       "  </thead>\n",
       "  <tbody>\n",
       "    <tr>\n",
       "      <th>0</th>\n",
       "      <td>TZJHLljE</td>\n",
       "      <td>False</td>\n",
       "      <td>1.504210e+12</td>\n",
       "      <td>1.504210e+12</td>\n",
       "      <td>13</td>\n",
       "      <td>outoftime</td>\n",
       "      <td>white</td>\n",
       "      <td>15+2</td>\n",
       "      <td>bourgris</td>\n",
       "      <td>1500</td>\n",
       "      <td>a-00</td>\n",
       "      <td>1191</td>\n",
       "      <td>d4 d5 c4 c6 cxd5 e6 dxe6 fxe6 Nf3 Bb4+ Nc3 Ba5...</td>\n",
       "      <td>D10</td>\n",
       "      <td>Slav Defense: Exchange Variation</td>\n",
       "      <td>5</td>\n",
       "    </tr>\n",
       "    <tr>\n",
       "      <th>1</th>\n",
       "      <td>l1NXvwaE</td>\n",
       "      <td>True</td>\n",
       "      <td>1.504130e+12</td>\n",
       "      <td>1.504130e+12</td>\n",
       "      <td>16</td>\n",
       "      <td>resign</td>\n",
       "      <td>black</td>\n",
       "      <td>5+10</td>\n",
       "      <td>a-00</td>\n",
       "      <td>1322</td>\n",
       "      <td>skinnerua</td>\n",
       "      <td>1261</td>\n",
       "      <td>d4 Nc6 e4 e5 f4 f6 dxe5 fxe5 fxe5 Nxe5 Qd4 Nc6...</td>\n",
       "      <td>B00</td>\n",
       "      <td>Nimzowitsch Defense: Kennedy Variation</td>\n",
       "      <td>4</td>\n",
       "    </tr>\n",
       "    <tr>\n",
       "      <th>2</th>\n",
       "      <td>mIICvQHh</td>\n",
       "      <td>True</td>\n",
       "      <td>1.504130e+12</td>\n",
       "      <td>1.504130e+12</td>\n",
       "      <td>61</td>\n",
       "      <td>mate</td>\n",
       "      <td>white</td>\n",
       "      <td>5+10</td>\n",
       "      <td>ischia</td>\n",
       "      <td>1496</td>\n",
       "      <td>a-00</td>\n",
       "      <td>1500</td>\n",
       "      <td>e4 e5 d3 d6 Be3 c6 Be2 b5 Nd2 a5 a4 c5 axb5 Nc...</td>\n",
       "      <td>C20</td>\n",
       "      <td>King's Pawn Game: Leonardis Variation</td>\n",
       "      <td>3</td>\n",
       "    </tr>\n",
       "    <tr>\n",
       "      <th>5</th>\n",
       "      <td>MsoDV9wj</td>\n",
       "      <td>False</td>\n",
       "      <td>1.504240e+12</td>\n",
       "      <td>1.504240e+12</td>\n",
       "      <td>5</td>\n",
       "      <td>draw</td>\n",
       "      <td>draw</td>\n",
       "      <td>10+0</td>\n",
       "      <td>trelynn17</td>\n",
       "      <td>1250</td>\n",
       "      <td>franklin14532</td>\n",
       "      <td>1002</td>\n",
       "      <td>e4 c5 Nf3 Qa5 a3</td>\n",
       "      <td>B27</td>\n",
       "      <td>Sicilian Defense: Mongoose Variation</td>\n",
       "      <td>4</td>\n",
       "    </tr>\n",
       "    <tr>\n",
       "      <th>6</th>\n",
       "      <td>qwU9rasv</td>\n",
       "      <td>True</td>\n",
       "      <td>1.504230e+12</td>\n",
       "      <td>1.504230e+12</td>\n",
       "      <td>33</td>\n",
       "      <td>resign</td>\n",
       "      <td>white</td>\n",
       "      <td>10+0</td>\n",
       "      <td>capa_jr</td>\n",
       "      <td>1520</td>\n",
       "      <td>daniel_likes_chess</td>\n",
       "      <td>1423</td>\n",
       "      <td>d4 d5 e4 dxe4 Nc3 Nf6 f3 exf3 Nxf3 Nc6 Bb5 a6 ...</td>\n",
       "      <td>D00</td>\n",
       "      <td>Blackmar-Diemer Gambit: Pietrowsky Defense</td>\n",
       "      <td>10</td>\n",
       "    </tr>\n",
       "  </tbody>\n",
       "</table>\n",
       "</div>"
      ],
      "text/plain": [
       "         id  rated    created_at  last_move_at  turns victory_status winner  \\\n",
       "0  TZJHLljE  False  1.504210e+12  1.504210e+12     13      outoftime  white   \n",
       "1  l1NXvwaE   True  1.504130e+12  1.504130e+12     16         resign  black   \n",
       "2  mIICvQHh   True  1.504130e+12  1.504130e+12     61           mate  white   \n",
       "5  MsoDV9wj  False  1.504240e+12  1.504240e+12      5           draw   draw   \n",
       "6  qwU9rasv   True  1.504230e+12  1.504230e+12     33         resign  white   \n",
       "\n",
       "  increment_code   white_id  white_rating            black_id  black_rating  \\\n",
       "0           15+2   bourgris          1500                a-00          1191   \n",
       "1           5+10       a-00          1322           skinnerua          1261   \n",
       "2           5+10     ischia          1496                a-00          1500   \n",
       "5           10+0  trelynn17          1250       franklin14532          1002   \n",
       "6           10+0    capa_jr          1520  daniel_likes_chess          1423   \n",
       "\n",
       "                                               moves opening_eco  \\\n",
       "0  d4 d5 c4 c6 cxd5 e6 dxe6 fxe6 Nf3 Bb4+ Nc3 Ba5...         D10   \n",
       "1  d4 Nc6 e4 e5 f4 f6 dxe5 fxe5 fxe5 Nxe5 Qd4 Nc6...         B00   \n",
       "2  e4 e5 d3 d6 Be3 c6 Be2 b5 Nd2 a5 a4 c5 axb5 Nc...         C20   \n",
       "5                                   e4 c5 Nf3 Qa5 a3         B27   \n",
       "6  d4 d5 e4 dxe4 Nc3 Nf6 f3 exf3 Nxf3 Nc6 Bb5 a6 ...         D00   \n",
       "\n",
       "                                 opening_name  opening_ply  \n",
       "0            Slav Defense: Exchange Variation            5  \n",
       "1      Nimzowitsch Defense: Kennedy Variation            4  \n",
       "2       King's Pawn Game: Leonardis Variation            3  \n",
       "5        Sicilian Defense: Mongoose Variation            4  \n",
       "6  Blackmar-Diemer Gambit: Pietrowsky Defense           10  "
      ]
     },
     "execution_count": 29,
     "metadata": {},
     "output_type": "execute_result"
    }
   ],
   "source": [
    "chess_df2.drop_duplicates(subset = 'id', keep='last', inplace=True)\n",
    "chess_df2.head()"
   ]
  },
  {
   "cell_type": "code",
   "execution_count": 32,
   "metadata": {},
   "outputs": [
    {
     "name": "stdout",
     "output_type": "stream",
     "text": [
      "Number of rows without duplicates: 19113\n"
     ]
    }
   ],
   "source": [
    "print('Number of rows without duplicates: {}'.format(chess_df2.shape[0]))"
   ]
  },
  {
   "cell_type": "markdown",
   "metadata": {},
   "source": [
    "As expected we have 19113 rows now. If we had performed this operation on the original dataframe, we also would have had 19113 rows too, but may not have kept the best row in regards to the `create_at` and `last_move_at` features."
   ]
  },
  {
   "cell_type": "markdown",
   "metadata": {},
   "source": [
    "### Fixing the `increment_code` Column\n",
    "\n",
    "The increment code is written as time+increment, meaning that the first number is the time on the clock that each player has to finish the game, and the number after the + sign is the increment, which is an extra amount of time alloted every move. The way this information is stored is rather hard to work with, so perhaps we should fix that, by simply splitting it up so that we have two columns of integer type, one with the time and the other with the increment."
   ]
  },
  {
   "cell_type": "code",
   "execution_count": 33,
   "metadata": {},
   "outputs": [
    {
     "data": {
      "text/plain": [
       "(400,)"
      ]
     },
     "execution_count": 33,
     "metadata": {},
     "output_type": "execute_result"
    }
   ],
   "source": [
    "chess_df2['increment_code'].unique().shape"
   ]
  },
  {
   "cell_type": "markdown",
   "metadata": {},
   "source": [
    "Note: the fact that there are 400 unique `increment_code` values shows that using this column as a categorical column would not be practical."
   ]
  },
  {
   "cell_type": "code",
   "execution_count": 34,
   "metadata": {},
   "outputs": [
    {
     "data": {
      "text/html": [
       "<div>\n",
       "<style scoped>\n",
       "    .dataframe tbody tr th:only-of-type {\n",
       "        vertical-align: middle;\n",
       "    }\n",
       "\n",
       "    .dataframe tbody tr th {\n",
       "        vertical-align: top;\n",
       "    }\n",
       "\n",
       "    .dataframe thead th {\n",
       "        text-align: right;\n",
       "    }\n",
       "</style>\n",
       "<table border=\"1\" class=\"dataframe\">\n",
       "  <thead>\n",
       "    <tr style=\"text-align: right;\">\n",
       "      <th></th>\n",
       "      <th>0</th>\n",
       "      <th>1</th>\n",
       "    </tr>\n",
       "  </thead>\n",
       "  <tbody>\n",
       "    <tr>\n",
       "      <th>0</th>\n",
       "      <td>15</td>\n",
       "      <td>2</td>\n",
       "    </tr>\n",
       "    <tr>\n",
       "      <th>1</th>\n",
       "      <td>5</td>\n",
       "      <td>10</td>\n",
       "    </tr>\n",
       "    <tr>\n",
       "      <th>2</th>\n",
       "      <td>5</td>\n",
       "      <td>10</td>\n",
       "    </tr>\n",
       "    <tr>\n",
       "      <th>5</th>\n",
       "      <td>10</td>\n",
       "      <td>0</td>\n",
       "    </tr>\n",
       "    <tr>\n",
       "      <th>6</th>\n",
       "      <td>10</td>\n",
       "      <td>0</td>\n",
       "    </tr>\n",
       "  </tbody>\n",
       "</table>\n",
       "</div>"
      ],
      "text/plain": [
       "    0   1\n",
       "0  15   2\n",
       "1   5  10\n",
       "2   5  10\n",
       "5  10   0\n",
       "6  10   0"
      ]
     },
     "execution_count": 34,
     "metadata": {},
     "output_type": "execute_result"
    }
   ],
   "source": [
    "split_increments = chess_df2['increment_code'].str.split('+', n=1, expand=True)\n",
    "split_increments.head()"
   ]
  },
  {
   "cell_type": "code",
   "execution_count": 35,
   "metadata": {},
   "outputs": [],
   "source": [
    "chess_df2['time_allotted'] = split_increments[0]\n",
    "chess_df2['increment'] = split_increments[1]\n",
    "\n",
    "#now drop the increment_code column as it is no longer needed\n",
    "chess_df2.drop(columns='increment_code', inplace=True)"
   ]
  },
  {
   "cell_type": "code",
   "execution_count": 36,
   "metadata": {},
   "outputs": [],
   "source": [
    "#now change these new columns to a numeric data type\n",
    "chess_df2['time_allotted'] = pd.to_numeric(chess_df2['time_allotted'])\n",
    "chess_df2['increment'] = pd.to_numeric(chess_df2['increment'])"
   ]
  },
  {
   "cell_type": "code",
   "execution_count": 37,
   "metadata": {},
   "outputs": [
    {
     "name": "stdout",
     "output_type": "stream",
     "text": [
      "<class 'pandas.core.frame.DataFrame'>\n",
      "Int64Index: 19113 entries, 0 to 20443\n",
      "Data columns (total 17 columns):\n",
      " #   Column          Non-Null Count  Dtype  \n",
      "---  ------          --------------  -----  \n",
      " 0   id              19113 non-null  object \n",
      " 1   rated           19113 non-null  bool   \n",
      " 2   created_at      19113 non-null  float64\n",
      " 3   last_move_at    19113 non-null  float64\n",
      " 4   turns           19113 non-null  int64  \n",
      " 5   victory_status  19113 non-null  object \n",
      " 6   winner          19113 non-null  object \n",
      " 7   white_id        19113 non-null  object \n",
      " 8   white_rating    19113 non-null  int64  \n",
      " 9   black_id        19113 non-null  object \n",
      " 10  black_rating    19113 non-null  int64  \n",
      " 11  moves           19113 non-null  object \n",
      " 12  opening_eco     19113 non-null  object \n",
      " 13  opening_name    19113 non-null  object \n",
      " 14  opening_ply     19113 non-null  int64  \n",
      " 15  time_allotted   19113 non-null  int64  \n",
      " 16  increment       19113 non-null  int64  \n",
      "dtypes: bool(1), float64(2), int64(6), object(8)\n",
      "memory usage: 2.5+ MB\n"
     ]
    }
   ],
   "source": [
    "chess_df2.info()"
   ]
  },
  {
   "cell_type": "code",
   "execution_count": 38,
   "metadata": {},
   "outputs": [
    {
     "data": {
      "text/html": [
       "<div>\n",
       "<style scoped>\n",
       "    .dataframe tbody tr th:only-of-type {\n",
       "        vertical-align: middle;\n",
       "    }\n",
       "\n",
       "    .dataframe tbody tr th {\n",
       "        vertical-align: top;\n",
       "    }\n",
       "\n",
       "    .dataframe thead th {\n",
       "        text-align: right;\n",
       "    }\n",
       "</style>\n",
       "<table border=\"1\" class=\"dataframe\">\n",
       "  <thead>\n",
       "    <tr style=\"text-align: right;\">\n",
       "      <th></th>\n",
       "      <th>created_at</th>\n",
       "      <th>last_move_at</th>\n",
       "      <th>turns</th>\n",
       "      <th>white_rating</th>\n",
       "      <th>black_rating</th>\n",
       "      <th>opening_ply</th>\n",
       "      <th>time_allotted</th>\n",
       "      <th>increment</th>\n",
       "    </tr>\n",
       "  </thead>\n",
       "  <tbody>\n",
       "    <tr>\n",
       "      <th>count</th>\n",
       "      <td>1.911300e+04</td>\n",
       "      <td>1.911300e+04</td>\n",
       "      <td>19113.000000</td>\n",
       "      <td>19113.000000</td>\n",
       "      <td>19113.000000</td>\n",
       "      <td>19113.000000</td>\n",
       "      <td>19113.000000</td>\n",
       "      <td>19113.000000</td>\n",
       "    </tr>\n",
       "    <tr>\n",
       "      <th>mean</th>\n",
       "      <td>1.483413e+12</td>\n",
       "      <td>1.483414e+12</td>\n",
       "      <td>60.513839</td>\n",
       "      <td>1597.300005</td>\n",
       "      <td>1590.045519</td>\n",
       "      <td>4.815780</td>\n",
       "      <td>13.785277</td>\n",
       "      <td>5.146497</td>\n",
       "    </tr>\n",
       "    <tr>\n",
       "      <th>std</th>\n",
       "      <td>2.833975e+10</td>\n",
       "      <td>2.833964e+10</td>\n",
       "      <td>33.488264</td>\n",
       "      <td>290.022740</td>\n",
       "      <td>290.441694</td>\n",
       "      <td>2.798283</td>\n",
       "      <td>17.072447</td>\n",
       "      <td>13.808620</td>\n",
       "    </tr>\n",
       "    <tr>\n",
       "      <th>min</th>\n",
       "      <td>1.376772e+12</td>\n",
       "      <td>1.376772e+12</td>\n",
       "      <td>1.000000</td>\n",
       "      <td>784.000000</td>\n",
       "      <td>789.000000</td>\n",
       "      <td>1.000000</td>\n",
       "      <td>0.000000</td>\n",
       "      <td>0.000000</td>\n",
       "    </tr>\n",
       "    <tr>\n",
       "      <th>25%</th>\n",
       "      <td>1.476910e+12</td>\n",
       "      <td>1.476912e+12</td>\n",
       "      <td>37.000000</td>\n",
       "      <td>1401.000000</td>\n",
       "      <td>1394.000000</td>\n",
       "      <td>3.000000</td>\n",
       "      <td>10.000000</td>\n",
       "      <td>0.000000</td>\n",
       "    </tr>\n",
       "    <tr>\n",
       "      <th>50%</th>\n",
       "      <td>1.495670e+12</td>\n",
       "      <td>1.495670e+12</td>\n",
       "      <td>55.000000</td>\n",
       "      <td>1567.000000</td>\n",
       "      <td>1563.000000</td>\n",
       "      <td>4.000000</td>\n",
       "      <td>10.000000</td>\n",
       "      <td>0.000000</td>\n",
       "    </tr>\n",
       "    <tr>\n",
       "      <th>75%</th>\n",
       "      <td>1.503080e+12</td>\n",
       "      <td>1.503080e+12</td>\n",
       "      <td>79.000000</td>\n",
       "      <td>1792.000000</td>\n",
       "      <td>1785.000000</td>\n",
       "      <td>6.000000</td>\n",
       "      <td>15.000000</td>\n",
       "      <td>7.000000</td>\n",
       "    </tr>\n",
       "    <tr>\n",
       "      <th>max</th>\n",
       "      <td>1.504493e+12</td>\n",
       "      <td>1.504494e+12</td>\n",
       "      <td>349.000000</td>\n",
       "      <td>2700.000000</td>\n",
       "      <td>2723.000000</td>\n",
       "      <td>28.000000</td>\n",
       "      <td>180.000000</td>\n",
       "      <td>180.000000</td>\n",
       "    </tr>\n",
       "  </tbody>\n",
       "</table>\n",
       "</div>"
      ],
      "text/plain": [
       "         created_at  last_move_at         turns  white_rating  black_rating  \\\n",
       "count  1.911300e+04  1.911300e+04  19113.000000  19113.000000  19113.000000   \n",
       "mean   1.483413e+12  1.483414e+12     60.513839   1597.300005   1590.045519   \n",
       "std    2.833975e+10  2.833964e+10     33.488264    290.022740    290.441694   \n",
       "min    1.376772e+12  1.376772e+12      1.000000    784.000000    789.000000   \n",
       "25%    1.476910e+12  1.476912e+12     37.000000   1401.000000   1394.000000   \n",
       "50%    1.495670e+12  1.495670e+12     55.000000   1567.000000   1563.000000   \n",
       "75%    1.503080e+12  1.503080e+12     79.000000   1792.000000   1785.000000   \n",
       "max    1.504493e+12  1.504494e+12    349.000000   2700.000000   2723.000000   \n",
       "\n",
       "        opening_ply  time_allotted     increment  \n",
       "count  19113.000000   19113.000000  19113.000000  \n",
       "mean       4.815780      13.785277      5.146497  \n",
       "std        2.798283      17.072447     13.808620  \n",
       "min        1.000000       0.000000      0.000000  \n",
       "25%        3.000000      10.000000      0.000000  \n",
       "50%        4.000000      10.000000      0.000000  \n",
       "75%        6.000000      15.000000      7.000000  \n",
       "max       28.000000     180.000000    180.000000  "
      ]
     },
     "execution_count": 38,
     "metadata": {},
     "output_type": "execute_result"
    }
   ],
   "source": [
    "#we can now look at some basic stats for these new columns\n",
    "chess_df2.describe()"
   ]
  },
  {
   "cell_type": "markdown",
   "metadata": {},
   "source": [
    "It looks like, along with the `turns` and `opening_ply` features, the `time_allotted` and `increment` features also have oddly large maximums. Since chess is a challenging and complex game, it makes sense to have some rare games where a significantly large amount of time is allotted, whether to give the players as much time as needed, or because they just did not wish to care about the clock. In the case of the latter, then the game may not have been a rated game, which might be something to expore later on."
   ]
  },
  {
   "cell_type": "markdown",
   "metadata": {},
   "source": [
    "### Exploring Outliers\n",
    "\n",
    "Thanks to the above description, we know to just focus on the `turns`, `opening_ply`, `time_allotted` and `increment` features with regards to outliers.\n",
    "\n",
    "#### `turns`"
   ]
  },
  {
   "cell_type": "code",
   "execution_count": 50,
   "metadata": {},
   "outputs": [
    {
     "data": {
      "text/plain": [
       "(1574, 17)"
      ]
     },
     "execution_count": 50,
     "metadata": {},
     "output_type": "execute_result"
    }
   ],
   "source": [
    "chess_df2[chess_df2['turns'] > 112].shape"
   ]
  },
  {
   "cell_type": "markdown",
   "metadata": {},
   "source": [
    "Here we looked at rows with a number of turns greater the the 75% quartile + the std, which gave us the 112. Seeing that we have 1574 rows still, this makes up almost 10% of the data, so these are probably not outliers. Let's try doubling the 112 now."
   ]
  },
  {
   "cell_type": "code",
   "execution_count": 51,
   "metadata": {},
   "outputs": [
    {
     "data": {
      "text/plain": [
       "(4, 17)"
      ]
     },
     "execution_count": 51,
     "metadata": {},
     "output_type": "execute_result"
    }
   ],
   "source": [
    "chess_df2[chess_df2['turns'] > 224].shape"
   ]
  },
  {
   "cell_type": "code",
   "execution_count": 52,
   "metadata": {},
   "outputs": [
    {
     "data": {
      "text/html": [
       "<div>\n",
       "<style scoped>\n",
       "    .dataframe tbody tr th:only-of-type {\n",
       "        vertical-align: middle;\n",
       "    }\n",
       "\n",
       "    .dataframe tbody tr th {\n",
       "        vertical-align: top;\n",
       "    }\n",
       "\n",
       "    .dataframe thead th {\n",
       "        text-align: right;\n",
       "    }\n",
       "</style>\n",
       "<table border=\"1\" class=\"dataframe\">\n",
       "  <thead>\n",
       "    <tr style=\"text-align: right;\">\n",
       "      <th></th>\n",
       "      <th>id</th>\n",
       "      <th>rated</th>\n",
       "      <th>created_at</th>\n",
       "      <th>last_move_at</th>\n",
       "      <th>turns</th>\n",
       "      <th>victory_status</th>\n",
       "      <th>winner</th>\n",
       "      <th>white_id</th>\n",
       "      <th>white_rating</th>\n",
       "      <th>black_id</th>\n",
       "      <th>black_rating</th>\n",
       "      <th>moves</th>\n",
       "      <th>opening_eco</th>\n",
       "      <th>opening_name</th>\n",
       "      <th>opening_ply</th>\n",
       "      <th>time_allotted</th>\n",
       "      <th>increment</th>\n",
       "    </tr>\n",
       "  </thead>\n",
       "  <tbody>\n",
       "    <tr>\n",
       "      <th>4236</th>\n",
       "      <td>vQq60Hur</td>\n",
       "      <td>True</td>\n",
       "      <td>1.474480e+12</td>\n",
       "      <td>1.474490e+12</td>\n",
       "      <td>255</td>\n",
       "      <td>draw</td>\n",
       "      <td>draw</td>\n",
       "      <td>manipin</td>\n",
       "      <td>1585</td>\n",
       "      <td>kasparovd0311</td>\n",
       "      <td>1448</td>\n",
       "      <td>e4 e6 Nc3 d5 exd5 exd5 d4 Nf6 Bf4 Be7 Nf3 O-O ...</td>\n",
       "      <td>C00</td>\n",
       "      <td>French Defense: Queen's Knight</td>\n",
       "      <td>3</td>\n",
       "      <td>7</td>\n",
       "      <td>2</td>\n",
       "    </tr>\n",
       "    <tr>\n",
       "      <th>16386</th>\n",
       "      <td>cZiGllu7</td>\n",
       "      <td>True</td>\n",
       "      <td>1.481753e+12</td>\n",
       "      <td>1.481755e+12</td>\n",
       "      <td>259</td>\n",
       "      <td>draw</td>\n",
       "      <td>draw</td>\n",
       "      <td>aragon26</td>\n",
       "      <td>1441</td>\n",
       "      <td>lone-wolf</td>\n",
       "      <td>1461</td>\n",
       "      <td>d4 d5 c4 c6 Nc3 Nf6 Bg5 Nbd7 Qc2 Qb6 e3 h6 Bf4...</td>\n",
       "      <td>D10</td>\n",
       "      <td>Slav Defense #2</td>\n",
       "      <td>5</td>\n",
       "      <td>15</td>\n",
       "      <td>5</td>\n",
       "    </tr>\n",
       "    <tr>\n",
       "      <th>16645</th>\n",
       "      <td>5ZjOnwjl</td>\n",
       "      <td>True</td>\n",
       "      <td>1.480271e+12</td>\n",
       "      <td>1.480272e+12</td>\n",
       "      <td>226</td>\n",
       "      <td>draw</td>\n",
       "      <td>draw</td>\n",
       "      <td>chunnev</td>\n",
       "      <td>1817</td>\n",
       "      <td>jhonthoth</td>\n",
       "      <td>1907</td>\n",
       "      <td>e4 e6 Nf3 d5 exd5 exd5 d4 Nf6 Bg5 Be7 Nc3 Be6 ...</td>\n",
       "      <td>C00</td>\n",
       "      <td>French Defense: Knight Variation</td>\n",
       "      <td>3</td>\n",
       "      <td>10</td>\n",
       "      <td>0</td>\n",
       "    </tr>\n",
       "    <tr>\n",
       "      <th>20269</th>\n",
       "      <td>pN0ioHNr</td>\n",
       "      <td>True</td>\n",
       "      <td>1.503084e+12</td>\n",
       "      <td>1.503086e+12</td>\n",
       "      <td>349</td>\n",
       "      <td>outoftime</td>\n",
       "      <td>white</td>\n",
       "      <td>shiwen</td>\n",
       "      <td>2194</td>\n",
       "      <td>kijek</td>\n",
       "      <td>2240</td>\n",
       "      <td>d4 d5 c4 c6 Nf3 Nf6 Nc3 e6 Bg5 h6 Bxf6 Qxf6 Qb...</td>\n",
       "      <td>D30</td>\n",
       "      <td>Queen's Gambit Declined: Hastings Variation</td>\n",
       "      <td>13</td>\n",
       "      <td>10</td>\n",
       "      <td>0</td>\n",
       "    </tr>\n",
       "  </tbody>\n",
       "</table>\n",
       "</div>"
      ],
      "text/plain": [
       "             id  rated    created_at  last_move_at  turns victory_status  \\\n",
       "4236   vQq60Hur   True  1.474480e+12  1.474490e+12    255           draw   \n",
       "16386  cZiGllu7   True  1.481753e+12  1.481755e+12    259           draw   \n",
       "16645  5ZjOnwjl   True  1.480271e+12  1.480272e+12    226           draw   \n",
       "20269  pN0ioHNr   True  1.503084e+12  1.503086e+12    349      outoftime   \n",
       "\n",
       "      winner  white_id  white_rating       black_id  black_rating  \\\n",
       "4236    draw   manipin          1585  kasparovd0311          1448   \n",
       "16386   draw  aragon26          1441      lone-wolf          1461   \n",
       "16645   draw   chunnev          1817      jhonthoth          1907   \n",
       "20269  white    shiwen          2194          kijek          2240   \n",
       "\n",
       "                                                   moves opening_eco  \\\n",
       "4236   e4 e6 Nc3 d5 exd5 exd5 d4 Nf6 Bf4 Be7 Nf3 O-O ...         C00   \n",
       "16386  d4 d5 c4 c6 Nc3 Nf6 Bg5 Nbd7 Qc2 Qb6 e3 h6 Bf4...         D10   \n",
       "16645  e4 e6 Nf3 d5 exd5 exd5 d4 Nf6 Bg5 Be7 Nc3 Be6 ...         C00   \n",
       "20269  d4 d5 c4 c6 Nf3 Nf6 Nc3 e6 Bg5 h6 Bxf6 Qxf6 Qb...         D30   \n",
       "\n",
       "                                      opening_name  opening_ply  \\\n",
       "4236                French Defense: Queen's Knight            3   \n",
       "16386                              Slav Defense #2            5   \n",
       "16645             French Defense: Knight Variation            3   \n",
       "20269  Queen's Gambit Declined: Hastings Variation           13   \n",
       "\n",
       "       time_allotted  increment  \n",
       "4236               7          2  \n",
       "16386             15          5  \n",
       "16645             10          0  \n",
       "20269             10          0  "
      ]
     },
     "execution_count": 52,
     "metadata": {},
     "output_type": "execute_result"
    }
   ],
   "source": [
    "chess_df2[chess_df2['turns'] > 224]"
   ]
  },
  {
   "cell_type": "markdown",
   "metadata": {},
   "source": [
    "There are only 4 values here this time. As mentioned before, one might think that games with a large turn count is too long for a standard ranked game, and so they might be causal games which may not be as valuable (casual games might indicate players weren't playing optimally since a win or loss wouldn't affect their rating). Interestingly, you can see in all four cases here that all the games were rated. Thus, it might be best to keep these outliers, at least for now.\n",
    "\n",
    "#### `opening_ply`\n",
    "\n",
    "Now let's go through the same process with the other three aforementioned features. The std + the 75% quatile for the opening_ply feature is about 8.8."
   ]
  },
  {
   "cell_type": "code",
   "execution_count": 54,
   "metadata": {},
   "outputs": [
    {
     "data": {
      "text/plain": [
       "(1924, 17)"
      ]
     },
     "execution_count": 54,
     "metadata": {},
     "output_type": "execute_result"
    }
   ],
   "source": [
    "chess_df2[chess_df2['opening_ply'] > 8.8].shape"
   ]
  },
  {
   "cell_type": "markdown",
   "metadata": {},
   "source": [
    "Again, this accounts for too much of the data to warrant being deemed as outliers. Let's try doubling 8.8."
   ]
  },
  {
   "cell_type": "code",
   "execution_count": 55,
   "metadata": {},
   "outputs": [
    {
     "data": {
      "text/plain": [
       "(37, 17)"
      ]
     },
     "execution_count": 55,
     "metadata": {},
     "output_type": "execute_result"
    }
   ],
   "source": [
    "chess_df2[chess_df2['opening_ply'] > 8.8*2].shape"
   ]
  },
  {
   "cell_type": "markdown",
   "metadata": {},
   "source": [
    "37 rows still is a lot to be calling outliers. Let's take a closer look."
   ]
  },
  {
   "cell_type": "code",
   "execution_count": 60,
   "metadata": {},
   "outputs": [
    {
     "data": {
      "text/html": [
       "<div>\n",
       "<style scoped>\n",
       "    .dataframe tbody tr th:only-of-type {\n",
       "        vertical-align: middle;\n",
       "    }\n",
       "\n",
       "    .dataframe tbody tr th {\n",
       "        vertical-align: top;\n",
       "    }\n",
       "\n",
       "    .dataframe thead th {\n",
       "        text-align: right;\n",
       "    }\n",
       "</style>\n",
       "<table border=\"1\" class=\"dataframe\">\n",
       "  <thead>\n",
       "    <tr style=\"text-align: right;\">\n",
       "      <th></th>\n",
       "      <th>rated</th>\n",
       "      <th>turns</th>\n",
       "      <th>victory_status</th>\n",
       "      <th>winner</th>\n",
       "      <th>opening_ply</th>\n",
       "    </tr>\n",
       "  </thead>\n",
       "  <tbody>\n",
       "    <tr>\n",
       "      <th>16443</th>\n",
       "      <td>True</td>\n",
       "      <td>34</td>\n",
       "      <td>resign</td>\n",
       "      <td>black</td>\n",
       "      <td>28</td>\n",
       "    </tr>\n",
       "    <tr>\n",
       "      <th>17900</th>\n",
       "      <td>True</td>\n",
       "      <td>45</td>\n",
       "      <td>resign</td>\n",
       "      <td>black</td>\n",
       "      <td>28</td>\n",
       "    </tr>\n",
       "    <tr>\n",
       "      <th>4475</th>\n",
       "      <td>False</td>\n",
       "      <td>32</td>\n",
       "      <td>outoftime</td>\n",
       "      <td>black</td>\n",
       "      <td>28</td>\n",
       "    </tr>\n",
       "    <tr>\n",
       "      <th>19412</th>\n",
       "      <td>True</td>\n",
       "      <td>61</td>\n",
       "      <td>resign</td>\n",
       "      <td>white</td>\n",
       "      <td>28</td>\n",
       "    </tr>\n",
       "    <tr>\n",
       "      <th>18853</th>\n",
       "      <td>True</td>\n",
       "      <td>65</td>\n",
       "      <td>outoftime</td>\n",
       "      <td>white</td>\n",
       "      <td>24</td>\n",
       "    </tr>\n",
       "    <tr>\n",
       "      <th>17965</th>\n",
       "      <td>True</td>\n",
       "      <td>60</td>\n",
       "      <td>resign</td>\n",
       "      <td>black</td>\n",
       "      <td>22</td>\n",
       "    </tr>\n",
       "    <tr>\n",
       "      <th>10422</th>\n",
       "      <td>True</td>\n",
       "      <td>97</td>\n",
       "      <td>resign</td>\n",
       "      <td>black</td>\n",
       "      <td>20</td>\n",
       "    </tr>\n",
       "    <tr>\n",
       "      <th>14507</th>\n",
       "      <td>False</td>\n",
       "      <td>34</td>\n",
       "      <td>resign</td>\n",
       "      <td>white</td>\n",
       "      <td>20</td>\n",
       "    </tr>\n",
       "  </tbody>\n",
       "</table>\n",
       "</div>"
      ],
      "text/plain": [
       "       rated  turns victory_status winner  opening_ply\n",
       "16443   True     34         resign  black           28\n",
       "17900   True     45         resign  black           28\n",
       "4475   False     32      outoftime  black           28\n",
       "19412   True     61         resign  white           28\n",
       "18853   True     65      outoftime  white           24\n",
       "17965   True     60         resign  black           22\n",
       "10422   True     97         resign  black           20\n",
       "14507  False     34         resign  white           20"
      ]
     },
     "execution_count": 60,
     "metadata": {},
     "output_type": "execute_result"
    }
   ],
   "source": [
    "#sorting by opening_ply to see the largest values\n",
    "sorted_opening = chess_df2[chess_df2['opening_ply'] > 8.8*2].sort_values('opening_ply', ascending=False)\n",
    "\n",
    "#only showing a few relevant columns to make it more readable.\n",
    "sorted_opening[['rated', 'turns', 'victory_status', 'winner', 'opening_ply']].head(8)"
   ]
  },
  {
   "cell_type": "markdown",
   "metadata": {},
   "source": [
    "Right away, seeing multiple rows sharing the `opening_ply` value indicates that these are not outliers. Moreover, the first `opening_ply` value less than 28 is 24, which is not a drastic difference in value (just a little bit more than the standard deviation for `opening_ply`). Thus, these are likely not outliers and are probably worth keeping.\n",
    "\n",
    "#### `time_allotted`\n",
    "\n",
    "Intuitively, it makes sense that the large `time_allotted` and `increment` values coincide with the large `turns` values, but let's make sure."
   ]
  },
  {
   "cell_type": "code",
   "execution_count": 61,
   "metadata": {},
   "outputs": [
    {
     "data": {
      "text/plain": [
       "(497, 17)"
      ]
     },
     "execution_count": 61,
     "metadata": {},
     "output_type": "execute_result"
    }
   ],
   "source": [
    "#again the 32 is the std+75% quartile\n",
    "chess_df2[chess_df2['time_allotted'] > 32].shape"
   ]
  },
  {
   "cell_type": "code",
   "execution_count": 62,
   "metadata": {},
   "outputs": [
    {
     "data": {
      "text/plain": [
       "(196, 17)"
      ]
     },
     "execution_count": 62,
     "metadata": {},
     "output_type": "execute_result"
    }
   ],
   "source": [
    "#doubling the 32 here, since 497 is a decent amount of rows to be considered outliers.\n",
    "chess_df2[chess_df2['time_allotted'] > 64].shape"
   ]
  },
  {
   "cell_type": "markdown",
   "metadata": {},
   "source": [
    "497 seems like a decent amount of rows to be deemed outliers, although it is actually only about 2% of the data that we have. 196 rows is only about !% of the data, so we could regard these as outliers. Let's take a closer look."
   ]
  },
  {
   "cell_type": "code",
   "execution_count": 64,
   "metadata": {},
   "outputs": [
    {
     "data": {
      "text/html": [
       "<div>\n",
       "<style scoped>\n",
       "    .dataframe tbody tr th:only-of-type {\n",
       "        vertical-align: middle;\n",
       "    }\n",
       "\n",
       "    .dataframe tbody tr th {\n",
       "        vertical-align: top;\n",
       "    }\n",
       "\n",
       "    .dataframe thead th {\n",
       "        text-align: right;\n",
       "    }\n",
       "</style>\n",
       "<table border=\"1\" class=\"dataframe\">\n",
       "  <thead>\n",
       "    <tr style=\"text-align: right;\">\n",
       "      <th></th>\n",
       "      <th>rated</th>\n",
       "      <th>turns</th>\n",
       "      <th>victory_status</th>\n",
       "      <th>winner</th>\n",
       "      <th>opening_ply</th>\n",
       "      <th>time_allotted</th>\n",
       "      <th>increment</th>\n",
       "    </tr>\n",
       "  </thead>\n",
       "  <tbody>\n",
       "    <tr>\n",
       "      <th>682</th>\n",
       "      <td>False</td>\n",
       "      <td>21</td>\n",
       "      <td>outoftime</td>\n",
       "      <td>white</td>\n",
       "      <td>4</td>\n",
       "      <td>180</td>\n",
       "      <td>0</td>\n",
       "    </tr>\n",
       "    <tr>\n",
       "      <th>9971</th>\n",
       "      <td>True</td>\n",
       "      <td>3</td>\n",
       "      <td>resign</td>\n",
       "      <td>white</td>\n",
       "      <td>1</td>\n",
       "      <td>180</td>\n",
       "      <td>0</td>\n",
       "    </tr>\n",
       "    <tr>\n",
       "      <th>9973</th>\n",
       "      <td>True</td>\n",
       "      <td>2</td>\n",
       "      <td>resign</td>\n",
       "      <td>black</td>\n",
       "      <td>1</td>\n",
       "      <td>180</td>\n",
       "      <td>0</td>\n",
       "    </tr>\n",
       "    <tr>\n",
       "      <th>9974</th>\n",
       "      <td>True</td>\n",
       "      <td>3</td>\n",
       "      <td>resign</td>\n",
       "      <td>white</td>\n",
       "      <td>1</td>\n",
       "      <td>180</td>\n",
       "      <td>180</td>\n",
       "    </tr>\n",
       "    <tr>\n",
       "      <th>9975</th>\n",
       "      <td>True</td>\n",
       "      <td>3</td>\n",
       "      <td>resign</td>\n",
       "      <td>white</td>\n",
       "      <td>1</td>\n",
       "      <td>180</td>\n",
       "      <td>180</td>\n",
       "    </tr>\n",
       "    <tr>\n",
       "      <th>9976</th>\n",
       "      <td>True</td>\n",
       "      <td>3</td>\n",
       "      <td>resign</td>\n",
       "      <td>white</td>\n",
       "      <td>1</td>\n",
       "      <td>180</td>\n",
       "      <td>0</td>\n",
       "    </tr>\n",
       "    <tr>\n",
       "      <th>9977</th>\n",
       "      <td>True</td>\n",
       "      <td>3</td>\n",
       "      <td>resign</td>\n",
       "      <td>white</td>\n",
       "      <td>1</td>\n",
       "      <td>180</td>\n",
       "      <td>180</td>\n",
       "    </tr>\n",
       "    <tr>\n",
       "      <th>9978</th>\n",
       "      <td>True</td>\n",
       "      <td>2</td>\n",
       "      <td>resign</td>\n",
       "      <td>black</td>\n",
       "      <td>2</td>\n",
       "      <td>180</td>\n",
       "      <td>0</td>\n",
       "    </tr>\n",
       "    <tr>\n",
       "      <th>9979</th>\n",
       "      <td>True</td>\n",
       "      <td>3</td>\n",
       "      <td>resign</td>\n",
       "      <td>white</td>\n",
       "      <td>1</td>\n",
       "      <td>180</td>\n",
       "      <td>180</td>\n",
       "    </tr>\n",
       "    <tr>\n",
       "      <th>9980</th>\n",
       "      <td>True</td>\n",
       "      <td>2</td>\n",
       "      <td>resign</td>\n",
       "      <td>black</td>\n",
       "      <td>1</td>\n",
       "      <td>180</td>\n",
       "      <td>180</td>\n",
       "    </tr>\n",
       "    <tr>\n",
       "      <th>9981</th>\n",
       "      <td>True</td>\n",
       "      <td>2</td>\n",
       "      <td>resign</td>\n",
       "      <td>white</td>\n",
       "      <td>1</td>\n",
       "      <td>180</td>\n",
       "      <td>180</td>\n",
       "    </tr>\n",
       "    <tr>\n",
       "      <th>9982</th>\n",
       "      <td>True</td>\n",
       "      <td>2</td>\n",
       "      <td>resign</td>\n",
       "      <td>white</td>\n",
       "      <td>1</td>\n",
       "      <td>180</td>\n",
       "      <td>0</td>\n",
       "    </tr>\n",
       "  </tbody>\n",
       "</table>\n",
       "</div>"
      ],
      "text/plain": [
       "      rated  turns victory_status winner  opening_ply  time_allotted  \\\n",
       "682   False     21      outoftime  white            4            180   \n",
       "9971   True      3         resign  white            1            180   \n",
       "9973   True      2         resign  black            1            180   \n",
       "9974   True      3         resign  white            1            180   \n",
       "9975   True      3         resign  white            1            180   \n",
       "9976   True      3         resign  white            1            180   \n",
       "9977   True      3         resign  white            1            180   \n",
       "9978   True      2         resign  black            2            180   \n",
       "9979   True      3         resign  white            1            180   \n",
       "9980   True      2         resign  black            1            180   \n",
       "9981   True      2         resign  white            1            180   \n",
       "9982   True      2         resign  white            1            180   \n",
       "\n",
       "      increment  \n",
       "682           0  \n",
       "9971          0  \n",
       "9973          0  \n",
       "9974        180  \n",
       "9975        180  \n",
       "9976          0  \n",
       "9977        180  \n",
       "9978          0  \n",
       "9979        180  \n",
       "9980        180  \n",
       "9981        180  \n",
       "9982          0  "
      ]
     },
     "execution_count": 64,
     "metadata": {},
     "output_type": "execute_result"
    }
   ],
   "source": [
    "#sorting by opening_ply to see the largest values\n",
    "sorted_time_all = chess_df2[chess_df2['time_allotted'] > 64].sort_values('time_allotted', ascending=False)\n",
    "\n",
    "#only showing a few relevant columns to make it more readable.\n",
    "sorted_time_all[['rated', 'turns', 'victory_status', 'winner', 'opening_ply', 'time_allotted', 'increment']].head(12)"
   ]
  },
  {
   "cell_type": "markdown",
   "metadata": {},
   "source": [
    "Clearly, you can see there are many rows with the max `time_allotted` value, which indicates, these are not outliers. In fact, it makes sense that these were games where they did not care to have a timer, so this was probably the default max time you could set in chess. Many of these games are rated as well, so dismissing them for being casual games is not permissable here. Thus we cannot say these rows are outliers, however this may indicate the `time_allotted` column might not be useful since it is so skewed. Or rather, since these rows only make up about 1% of the total rows in our data, perhaps it is worth investigating whether or not to remove these rows in the EDA part of this project. \n",
    "\n",
    "Just a quick note about the rest of the values. You'll notice the min value is 0, and the 25% and 50% quartiles have the same value of 10. This seems a bit odd, and the min value could be an outlier. But if you look at the unqiue values below, you'll see that there are only 33, and there does not seem to be a drastic increase in values as it goes up."
   ]
  },
  {
   "cell_type": "code",
   "execution_count": 80,
   "metadata": {},
   "outputs": [
    {
     "name": "stdout",
     "output_type": "stream",
     "text": [
      "[0, 1, 2, 3, 4, 5, 6, 7, 8, 9, 10, 11, 12, 13, 14, 15, 16, 17, 18, 19, 20, 21, 25, 29, 30, 35, 40, 45, 60, 90, 120, 150, 180]\n",
      "Number of unique time_allotted values: 33\n"
     ]
    }
   ],
   "source": [
    "print(sorted(chess_df2['time_allotted'].unique()))\n",
    "print('Number of unique time_allotted values: {}'.format(len(sorted(chess_df2['time_allotted'].unique()))))"
   ]
  },
  {
   "cell_type": "code",
   "execution_count": 102,
   "metadata": {},
   "outputs": [
    {
     "data": {
      "image/png": "[encoded data removed]",
      "text/plain": [
       "<Figure size 800x480 with 1 Axes>"
      ]
     },
     "metadata": {
      "needs_background": "light"
     },
     "output_type": "display_data"
    }
   ],
   "source": [
    "#lets make a chart to visualize the count of these values\n",
    "figure(figsize=(10, 6), dpi=80)\n",
    "\n",
    "vc_time = chess_df2['time_allotted'].value_counts()\n",
    "\n",
    "vc_time.plot(kind='bar')\n",
    "plt.title('time_allotted value counts')\n",
    "plt.show()"
   ]
  },
  {
   "cell_type": "markdown",
   "metadata": {},
   "source": [
    "So now you can clearly see why both the 25% and 50% quartile values were 10, which is that the data for this feature is very skewed, with the vast majority being 10. Likely, this is a chess standard. Perhaps this makes the feature relatively useless as well, since if you were to get rid of all the lower count values you would get rid of almost half the data. Also note the `time_allotted` 180 value is less insignificant to the `time_allotted` 10 value than most others, again showing that this maximum value should not be treated as an outlier. "
   ]
  },
  {
   "cell_type": "markdown",
   "metadata": {},
   "source": [
    "#### `increment`"
   ]
  },
  {
   "cell_type": "code",
   "execution_count": 103,
   "metadata": {},
   "outputs": [
    {
     "data": {
      "text/plain": [
       "(657, 17)"
      ]
     },
     "execution_count": 103,
     "metadata": {},
     "output_type": "execute_result"
    }
   ],
   "source": [
    "#again the 20 is the std+75% quartile\n",
    "chess_df2[chess_df2['increment'] > 20].shape"
   ]
  },
  {
   "cell_type": "code",
   "execution_count": 104,
   "metadata": {},
   "outputs": [
    {
     "data": {
      "text/plain": [
       "(267, 17)"
      ]
     },
     "execution_count": 104,
     "metadata": {},
     "output_type": "execute_result"
    }
   ],
   "source": [
    "#doubling the 20 here, since 657 is a decent amount of rows to be considered outliers\n",
    "chess_df2[chess_df2['increment'] > 40].shape"
   ]
  },
  {
   "cell_type": "markdown",
   "metadata": {},
   "source": [
    "The `increment` column seems to be in a similar situation as the `time_allotted` column. Before we continue though, notice that the min, 25% quartile, and the 50% quartile are all 0. Also, the std is almost 14, which is double the 75% quartile value. This seems odd, so let's skip to looking at the value counts here."
   ]
  },
  {
   "cell_type": "code",
   "execution_count": 105,
   "metadata": {},
   "outputs": [
    {
     "data": {
      "image/png": "[encoded data removed]",
      "text/plain": [
       "<Figure size 432x288 with 1 Axes>"
      ]
     },
     "metadata": {
      "needs_background": "light"
     },
     "output_type": "display_data"
    }
   ],
   "source": [
    "inc_time = chess_df2['increment'].value_counts()\n",
    "\n",
    "inc_time.plot(kind='bar')\n",
    "plt.title('increment value counts')\n",
    "plt.show()"
   ]
  },
  {
   "cell_type": "markdown",
   "metadata": {},
   "source": [
    "Again this data is very skewed, with over half being 0. This explains the statistics above, but also indicates that this column might be rather useless. Also, it is likely most rows with a `time_allotted` value of 10 also have an `increment` value of 0. In fact, we can check this."
   ]
  },
  {
   "cell_type": "code",
   "execution_count": 114,
   "metadata": {},
   "outputs": [
    {
     "name": "stderr",
     "output_type": "stream",
     "text": [
      "<ipython-input-114-b75e2d3cfbb6>:2: UserWarning: Boolean Series key will be reindexed to match DataFrame index.\n",
      "  inc_time_df[chess_df2['time_allotted'] == 10].shape\n"
     ]
    },
    {
     "data": {
      "text/plain": [
       "(7356, 17)"
      ]
     },
     "execution_count": 114,
     "metadata": {},
     "output_type": "execute_result"
    }
   ],
   "source": [
    "inc_time_df = chess_df2[chess_df2['increment'] == 0]\n",
    "inc_time_df[chess_df2['time_allotted'] == 10].shape"
   ]
  },
  {
   "cell_type": "markdown",
   "metadata": {},
   "source": [
    "Indeed, there are 7356 rows with a `time_allotted` value of 10 and `increment` value of 0, which is pretty close to half of the data. That being said, there doesn't seem to be any obvious outliers here. If these features are used in the EDA part of this project, are are for whatever reason causing issues, it might be useful to remove all rows with an `increment` value below a certain threshold, to get rid of the massive skew (and similary for the `time_allotted` feature). The skew occurs due to the min value though, so there will always be a skew anyways, thus potentially making this ineffective.\n",
    "\n",
    "But to sum up this outlier section, none of the `turns`, `opening_ply`, `time_allotted` and `increment` features seem to have obvious outliers that we can remove, but some insights gained were that the `time_allotted` and `increment` features might be worth removing, the `turns` feature has a few oddly large values that could be removed if need be, and the `opening_ply` feature seems fine to leave as is."
   ]
  },
  {
   "cell_type": "markdown",
   "metadata": {},
   "source": [
    "### Modifying the `created_at` and `last_move_at` columns\n",
    "\n",
    "Something noted earlier was that the `created_at` and `last_move_at` columns sometimes had the same values in some of the rows. This means that for those games, the total time the game lasted was 0 seconds, which obviously makes no sense. We may need to remove these rows, but first let's see how many of these there are."
   ]
  },
  {
   "cell_type": "code",
   "execution_count": 122,
   "metadata": {},
   "outputs": [
    {
     "name": "stdout",
     "output_type": "stream",
     "text": [
      "There are 8058 games that lasted for 0 seconds.\n"
     ]
    }
   ],
   "source": [
    "zero_time = (chess_df2['created_at'] - chess_df2['last_move_at'] == 0)\n",
    "\n",
    "print('There are {} games that lasted for 0 seconds.'.format(zero_time.sum()))"
   ]
  },
  {
   "cell_type": "markdown",
   "metadata": {},
   "source": [
    "8058 rows accounts for about 40% of the data. This is way too much to remove. Luckily, we already mentioned earlier that these columns may not be of great benefit, just intuitively speaking. Also, how long a game lasts is information that is somewhat already contained in the `time_allotted` feature, and also the `turns` feature. Ultimately, this is something to explore in the EDA part of this project, but for now it does not make sense to remove these rows quite yet. However, we can clean these two features up by subtracting them from one another and taking that as the new column. This new column of course represents how long a game lasts, which is easier to read than two large numbers that have random start times from many decades ago."
   ]
  },
  {
   "cell_type": "code",
   "execution_count": 123,
   "metadata": {},
   "outputs": [],
   "source": [
    "#get our new column\n",
    "chess_df2['total_time'] = chess_df2['last_move_at'] - chess_df2['created_at']"
   ]
  },
  {
   "cell_type": "code",
   "execution_count": 131,
   "metadata": {},
   "outputs": [],
   "source": [
    "#converting the total_time into seconds, since milliseconds is not as easy to think about\n",
    "chess_df2['total_time'] = chess_df2['total_time']/1000"
   ]
  },
  {
   "cell_type": "code",
   "execution_count": 126,
   "metadata": {},
   "outputs": [],
   "source": [
    "#now lets drop the 'created_at' and 'last_move_at' columns\n",
    "chess_df2.drop(['created_at', 'last_move_at'], axis=1, inplace=True)"
   ]
  },
  {
   "cell_type": "code",
   "execution_count": 137,
   "metadata": {},
   "outputs": [],
   "source": [
    "chess_df2.reset_index(inplace=True)"
   ]
  },
  {
   "cell_type": "code",
   "execution_count": 139,
   "metadata": {},
   "outputs": [],
   "source": [
    "chess_df2.drop(['index'], axis=1, inplace=True)"
   ]
  },
  {
   "cell_type": "code",
   "execution_count": 142,
   "metadata": {},
   "outputs": [
    {
     "data": {
      "text/html": [
       "<div>\n",
       "<style scoped>\n",
       "    .dataframe tbody tr th:only-of-type {\n",
       "        vertical-align: middle;\n",
       "    }\n",
       "\n",
       "    .dataframe tbody tr th {\n",
       "        vertical-align: top;\n",
       "    }\n",
       "\n",
       "    .dataframe thead th {\n",
       "        text-align: right;\n",
       "    }\n",
       "</style>\n",
       "<table border=\"1\" class=\"dataframe\">\n",
       "  <thead>\n",
       "    <tr style=\"text-align: right;\">\n",
       "      <th></th>\n",
       "      <th>id</th>\n",
       "      <th>rated</th>\n",
       "      <th>turns</th>\n",
       "      <th>victory_status</th>\n",
       "      <th>winner</th>\n",
       "      <th>white_id</th>\n",
       "      <th>white_rating</th>\n",
       "      <th>black_id</th>\n",
       "      <th>black_rating</th>\n",
       "      <th>moves</th>\n",
       "      <th>opening_eco</th>\n",
       "      <th>opening_name</th>\n",
       "      <th>opening_ply</th>\n",
       "      <th>time_allotted</th>\n",
       "      <th>increment</th>\n",
       "      <th>total_time</th>\n",
       "    </tr>\n",
       "  </thead>\n",
       "  <tbody>\n",
       "    <tr>\n",
       "      <th>0</th>\n",
       "      <td>TZJHLljE</td>\n",
       "      <td>False</td>\n",
       "      <td>13</td>\n",
       "      <td>outoftime</td>\n",
       "      <td>white</td>\n",
       "      <td>bourgris</td>\n",
       "      <td>1500</td>\n",
       "      <td>a-00</td>\n",
       "      <td>1191</td>\n",
       "      <td>d4 d5 c4 c6 cxd5 e6 dxe6 fxe6 Nf3 Bb4+ Nc3 Ba5...</td>\n",
       "      <td>D10</td>\n",
       "      <td>Slav Defense: Exchange Variation</td>\n",
       "      <td>5</td>\n",
       "      <td>15</td>\n",
       "      <td>2</td>\n",
       "      <td>0.0</td>\n",
       "    </tr>\n",
       "    <tr>\n",
       "      <th>1</th>\n",
       "      <td>l1NXvwaE</td>\n",
       "      <td>True</td>\n",
       "      <td>16</td>\n",
       "      <td>resign</td>\n",
       "      <td>black</td>\n",
       "      <td>a-00</td>\n",
       "      <td>1322</td>\n",
       "      <td>skinnerua</td>\n",
       "      <td>1261</td>\n",
       "      <td>d4 Nc6 e4 e5 f4 f6 dxe5 fxe5 fxe5 Nxe5 Qd4 Nc6...</td>\n",
       "      <td>B00</td>\n",
       "      <td>Nimzowitsch Defense: Kennedy Variation</td>\n",
       "      <td>4</td>\n",
       "      <td>5</td>\n",
       "      <td>10</td>\n",
       "      <td>0.0</td>\n",
       "    </tr>\n",
       "    <tr>\n",
       "      <th>2</th>\n",
       "      <td>mIICvQHh</td>\n",
       "      <td>True</td>\n",
       "      <td>61</td>\n",
       "      <td>mate</td>\n",
       "      <td>white</td>\n",
       "      <td>ischia</td>\n",
       "      <td>1496</td>\n",
       "      <td>a-00</td>\n",
       "      <td>1500</td>\n",
       "      <td>e4 e5 d3 d6 Be3 c6 Be2 b5 Nd2 a5 a4 c5 axb5 Nc...</td>\n",
       "      <td>C20</td>\n",
       "      <td>King's Pawn Game: Leonardis Variation</td>\n",
       "      <td>3</td>\n",
       "      <td>5</td>\n",
       "      <td>10</td>\n",
       "      <td>0.0</td>\n",
       "    </tr>\n",
       "    <tr>\n",
       "      <th>3</th>\n",
       "      <td>MsoDV9wj</td>\n",
       "      <td>False</td>\n",
       "      <td>5</td>\n",
       "      <td>draw</td>\n",
       "      <td>draw</td>\n",
       "      <td>trelynn17</td>\n",
       "      <td>1250</td>\n",
       "      <td>franklin14532</td>\n",
       "      <td>1002</td>\n",
       "      <td>e4 c5 Nf3 Qa5 a3</td>\n",
       "      <td>B27</td>\n",
       "      <td>Sicilian Defense: Mongoose Variation</td>\n",
       "      <td>4</td>\n",
       "      <td>10</td>\n",
       "      <td>0</td>\n",
       "      <td>0.0</td>\n",
       "    </tr>\n",
       "    <tr>\n",
       "      <th>4</th>\n",
       "      <td>qwU9rasv</td>\n",
       "      <td>True</td>\n",
       "      <td>33</td>\n",
       "      <td>resign</td>\n",
       "      <td>white</td>\n",
       "      <td>capa_jr</td>\n",
       "      <td>1520</td>\n",
       "      <td>daniel_likes_chess</td>\n",
       "      <td>1423</td>\n",
       "      <td>d4 d5 e4 dxe4 Nc3 Nf6 f3 exf3 Nxf3 Nc6 Bb5 a6 ...</td>\n",
       "      <td>D00</td>\n",
       "      <td>Blackmar-Diemer Gambit: Pietrowsky Defense</td>\n",
       "      <td>10</td>\n",
       "      <td>10</td>\n",
       "      <td>0</td>\n",
       "      <td>0.0</td>\n",
       "    </tr>\n",
       "  </tbody>\n",
       "</table>\n",
       "</div>"
      ],
      "text/plain": [
       "         id  rated  turns victory_status winner   white_id  white_rating  \\\n",
       "0  TZJHLljE  False     13      outoftime  white   bourgris          1500   \n",
       "1  l1NXvwaE   True     16         resign  black       a-00          1322   \n",
       "2  mIICvQHh   True     61           mate  white     ischia          1496   \n",
       "3  MsoDV9wj  False      5           draw   draw  trelynn17          1250   \n",
       "4  qwU9rasv   True     33         resign  white    capa_jr          1520   \n",
       "\n",
       "             black_id  black_rating  \\\n",
       "0                a-00          1191   \n",
       "1           skinnerua          1261   \n",
       "2                a-00          1500   \n",
       "3       franklin14532          1002   \n",
       "4  daniel_likes_chess          1423   \n",
       "\n",
       "                                               moves opening_eco  \\\n",
       "0  d4 d5 c4 c6 cxd5 e6 dxe6 fxe6 Nf3 Bb4+ Nc3 Ba5...         D10   \n",
       "1  d4 Nc6 e4 e5 f4 f6 dxe5 fxe5 fxe5 Nxe5 Qd4 Nc6...         B00   \n",
       "2  e4 e5 d3 d6 Be3 c6 Be2 b5 Nd2 a5 a4 c5 axb5 Nc...         C20   \n",
       "3                                   e4 c5 Nf3 Qa5 a3         B27   \n",
       "4  d4 d5 e4 dxe4 Nc3 Nf6 f3 exf3 Nxf3 Nc6 Bb5 a6 ...         D00   \n",
       "\n",
       "                                 opening_name  opening_ply  time_allotted  \\\n",
       "0            Slav Defense: Exchange Variation            5             15   \n",
       "1      Nimzowitsch Defense: Kennedy Variation            4              5   \n",
       "2       King's Pawn Game: Leonardis Variation            3              5   \n",
       "3        Sicilian Defense: Mongoose Variation            4             10   \n",
       "4  Blackmar-Diemer Gambit: Pietrowsky Defense           10             10   \n",
       "\n",
       "   increment  total_time  \n",
       "0          2         0.0  \n",
       "1         10         0.0  \n",
       "2         10         0.0  \n",
       "3          0         0.0  \n",
       "4          0         0.0  "
      ]
     },
     "execution_count": 142,
     "metadata": {},
     "output_type": "execute_result"
    }
   ],
   "source": [
    "chess_df2.head()"
   ]
  },
  {
   "cell_type": "code",
   "execution_count": 141,
   "metadata": {},
   "outputs": [
    {
     "name": "stdout",
     "output_type": "stream",
     "text": [
      "<class 'pandas.core.frame.DataFrame'>\n",
      "RangeIndex: 19113 entries, 0 to 19112\n",
      "Data columns (total 16 columns):\n",
      " #   Column          Non-Null Count  Dtype  \n",
      "---  ------          --------------  -----  \n",
      " 0   id              19113 non-null  object \n",
      " 1   rated           19113 non-null  bool   \n",
      " 2   turns           19113 non-null  int64  \n",
      " 3   victory_status  19113 non-null  object \n",
      " 4   winner          19113 non-null  object \n",
      " 5   white_id        19113 non-null  object \n",
      " 6   white_rating    19113 non-null  int64  \n",
      " 7   black_id        19113 non-null  object \n",
      " 8   black_rating    19113 non-null  int64  \n",
      " 9   moves           19113 non-null  object \n",
      " 10  opening_eco     19113 non-null  object \n",
      " 11  opening_name    19113 non-null  object \n",
      " 12  opening_ply     19113 non-null  int64  \n",
      " 13  time_allotted   19113 non-null  int64  \n",
      " 14  increment       19113 non-null  int64  \n",
      " 15  total_time      19113 non-null  float64\n",
      "dtypes: bool(1), float64(1), int64(6), object(8)\n",
      "memory usage: 2.2+ MB\n"
     ]
    }
   ],
   "source": [
    "#our finalized new dataframe\n",
    "chess_df2.info()"
   ]
  },
  {
   "cell_type": "code",
   "execution_count": 143,
   "metadata": {},
   "outputs": [],
   "source": [
    "chess_df2.to_pickle('chess_data') "
   ]
  },
  {
   "cell_type": "markdown",
   "metadata": {},
   "source": [
    "## Summary\n",
    "\n",
    "This project comes from kaggle, which had only one csv file, so collecting the data was easy. The data had 16 columns, with definitions for each on kaggle as well. Some definitions required further understanding of chess itself, but links were provided above for this.  \n",
    "\n",
    "Data cleaning makes up most of this notebook. As it turns out, there were no missing values, but lots of duplicates. It doesn't make too much sense to have duplicates when each row represents a unique chess game, so they were dropped. Before this though, apparently the only columns causing the duplicates were the `created_at` and `last_move_at` columns. So, to deal with this the row that was kept for the games with duplicates were the ones that had the most frequent values of the `created_at` and `last_move_at` columns. \n",
    "\n",
    "The next columns that was cleaned was the `increment_code` column. It was originally a string with two potentially meaningful numbers, so the column was split into two columns (the `time_allotted` and `increment` columns), each with one of the values. Now, moving on to outliers, it seem these columns and the `turns` and `opening_ply` columns had some outliers close to their maximumn values within their repective ranges. After some exploring, nothing conclusive came out, and not rows were removed here, but there were some notes made. More specifically, it seems like the `time_allotted` and `increment` features may actually not be very valuable, and the `turns` feature has a few oddly large values that could be removed if need be, but its best to leave them in for now. Some of the insights gained here are things to continue exploring in the EDA part of the project.\n",
    "\n",
    "Finally, a note about the  `created_at` and `last_move_at` was made earlier about how they had the same values in some rows. There were too many rows with this issue to remove now, but the columns were modified into just one column depicting the total time a game took. This way, these columns will be easier to analyze later on. The final dataframe was then saved."
   ]
  }
 ],
 "metadata": {
  "kernelspec": {
   "display_name": "Python 3",
   "language": "python",
   "name": "python3"
  },
  "language_info": {
   "codemirror_mode": {
    "name": "ipython",
    "version": 3
   },
   "file_extension": ".py",
   "mimetype": "text/x-python",
   "name": "python",
   "nbconvert_exporter": "python",
   "pygments_lexer": "ipython3",
   "version": "3.8.5"
  }
 },
 "nbformat": 4,
 "nbformat_minor": 4
}
