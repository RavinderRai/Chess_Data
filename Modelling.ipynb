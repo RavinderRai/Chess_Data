{
 "cells": [
  {
   "cell_type": "markdown",
   "metadata": {},
   "source": [
    "# Modelling\n",
    "\n",
    "In this notebook we will finally start working on getting a model to predict who may win in a game of chess given our variables. \n",
    "\n",
    "## Loading the data and libraries"
   ]
  },
  {
   "cell_type": "code",
   "execution_count": 39,
   "metadata": {},
   "outputs": [],
   "source": [
    "import numpy as np\n",
    "import pandas as pd\n",
    "import seaborn as sns\n",
    "import matplotlib.pyplot as plt\n",
    "import pickle\n",
    "from collections import Counter\n",
    "\n",
    "from sklearn.linear_model import LogisticRegression\n",
    "from sklearn.metrics import confusion_matrix\n",
    "from sklearn.model_selection import GridSearchCV"
   ]
  },
  {
   "cell_type": "code",
   "execution_count": 2,
   "metadata": {},
   "outputs": [],
   "source": [
    "train = pd.read_pickle('train_df.pkl')\n",
    "test = pd.read_pickle('test_df.pkl')"
   ]
  },
  {
   "cell_type": "code",
   "execution_count": 3,
   "metadata": {},
   "outputs": [
    {
     "data": {
      "text/html": [
       "<div>\n",
       "<style scoped>\n",
       "    .dataframe tbody tr th:only-of-type {\n",
       "        vertical-align: middle;\n",
       "    }\n",
       "\n",
       "    .dataframe tbody tr th {\n",
       "        vertical-align: top;\n",
       "    }\n",
       "\n",
       "    .dataframe thead th {\n",
       "        text-align: right;\n",
       "    }\n",
       "</style>\n",
       "<table border=\"1\" class=\"dataframe\">\n",
       "  <thead>\n",
       "    <tr style=\"text-align: right;\">\n",
       "      <th></th>\n",
       "      <th>rated</th>\n",
       "      <th>victory_status_mate</th>\n",
       "      <th>victory_status_outoftime</th>\n",
       "      <th>victory_status_resign</th>\n",
       "      <th>turns</th>\n",
       "      <th>white_rating</th>\n",
       "      <th>black_rating</th>\n",
       "      <th>opening_ply</th>\n",
       "      <th>time_allotted</th>\n",
       "      <th>increment</th>\n",
       "      <th>...</th>\n",
       "      <th>Counts_name_e87</th>\n",
       "      <th>Counts_name_e88</th>\n",
       "      <th>Counts_name_e90</th>\n",
       "      <th>Counts_name_e91</th>\n",
       "      <th>Counts_name_e92</th>\n",
       "      <th>Counts_name_e94</th>\n",
       "      <th>Counts_name_e95</th>\n",
       "      <th>Counts_name_e97</th>\n",
       "      <th>Counts_name_e98</th>\n",
       "      <th>winner_label</th>\n",
       "    </tr>\n",
       "  </thead>\n",
       "  <tbody>\n",
       "    <tr>\n",
       "      <th>2858</th>\n",
       "      <td>0</td>\n",
       "      <td>1</td>\n",
       "      <td>0</td>\n",
       "      <td>0</td>\n",
       "      <td>0.163828</td>\n",
       "      <td>-0.976846</td>\n",
       "      <td>-0.378900</td>\n",
       "      <td>-0.648908</td>\n",
       "      <td>-0.221724</td>\n",
       "      <td>-0.372712</td>\n",
       "      <td>...</td>\n",
       "      <td>0</td>\n",
       "      <td>0</td>\n",
       "      <td>0</td>\n",
       "      <td>0</td>\n",
       "      <td>0</td>\n",
       "      <td>0</td>\n",
       "      <td>0</td>\n",
       "      <td>0</td>\n",
       "      <td>0</td>\n",
       "      <td>0</td>\n",
       "    </tr>\n",
       "    <tr>\n",
       "      <th>7948</th>\n",
       "      <td>1</td>\n",
       "      <td>0</td>\n",
       "      <td>0</td>\n",
       "      <td>1</td>\n",
       "      <td>0.790929</td>\n",
       "      <td>2.243676</td>\n",
       "      <td>1.463170</td>\n",
       "      <td>1.852692</td>\n",
       "      <td>-0.397451</td>\n",
       "      <td>0.351493</td>\n",
       "      <td>...</td>\n",
       "      <td>0</td>\n",
       "      <td>0</td>\n",
       "      <td>0</td>\n",
       "      <td>0</td>\n",
       "      <td>0</td>\n",
       "      <td>0</td>\n",
       "      <td>0</td>\n",
       "      <td>0</td>\n",
       "      <td>0</td>\n",
       "      <td>2</td>\n",
       "    </tr>\n",
       "    <tr>\n",
       "      <th>15696</th>\n",
       "      <td>1</td>\n",
       "      <td>0</td>\n",
       "      <td>0</td>\n",
       "      <td>1</td>\n",
       "      <td>1.298583</td>\n",
       "      <td>-0.218264</td>\n",
       "      <td>-0.113780</td>\n",
       "      <td>-0.291536</td>\n",
       "      <td>-0.280300</td>\n",
       "      <td>-0.010609</td>\n",
       "      <td>...</td>\n",
       "      <td>0</td>\n",
       "      <td>0</td>\n",
       "      <td>0</td>\n",
       "      <td>0</td>\n",
       "      <td>0</td>\n",
       "      <td>0</td>\n",
       "      <td>0</td>\n",
       "      <td>0</td>\n",
       "      <td>0</td>\n",
       "      <td>0</td>\n",
       "    </tr>\n",
       "    <tr>\n",
       "      <th>5</th>\n",
       "      <td>0</td>\n",
       "      <td>0</td>\n",
       "      <td>0</td>\n",
       "      <td>1</td>\n",
       "      <td>-1.538306</td>\n",
       "      <td>-0.635484</td>\n",
       "      <td>1.783380</td>\n",
       "      <td>0.065835</td>\n",
       "      <td>0.071153</td>\n",
       "      <td>1.799901</td>\n",
       "      <td>...</td>\n",
       "      <td>0</td>\n",
       "      <td>0</td>\n",
       "      <td>0</td>\n",
       "      <td>0</td>\n",
       "      <td>0</td>\n",
       "      <td>0</td>\n",
       "      <td>0</td>\n",
       "      <td>0</td>\n",
       "      <td>0</td>\n",
       "      <td>0</td>\n",
       "    </tr>\n",
       "    <tr>\n",
       "      <th>14894</th>\n",
       "      <td>1</td>\n",
       "      <td>0</td>\n",
       "      <td>0</td>\n",
       "      <td>1</td>\n",
       "      <td>0.343000</td>\n",
       "      <td>-0.011379</td>\n",
       "      <td>0.020502</td>\n",
       "      <td>0.065835</td>\n",
       "      <td>-0.221724</td>\n",
       "      <td>-0.372712</td>\n",
       "      <td>...</td>\n",
       "      <td>0</td>\n",
       "      <td>0</td>\n",
       "      <td>0</td>\n",
       "      <td>0</td>\n",
       "      <td>0</td>\n",
       "      <td>0</td>\n",
       "      <td>0</td>\n",
       "      <td>0</td>\n",
       "      <td>0</td>\n",
       "      <td>0</td>\n",
       "    </tr>\n",
       "  </tbody>\n",
       "</table>\n",
       "<p>5 rows × 3429 columns</p>\n",
       "</div>"
      ],
      "text/plain": [
       "       rated  victory_status_mate  victory_status_outoftime  \\\n",
       "2858       0                    1                         0   \n",
       "7948       1                    0                         0   \n",
       "15696      1                    0                         0   \n",
       "5          0                    0                         0   \n",
       "14894      1                    0                         0   \n",
       "\n",
       "       victory_status_resign     turns  white_rating  black_rating  \\\n",
       "2858                       0  0.163828     -0.976846     -0.378900   \n",
       "7948                       1  0.790929      2.243676      1.463170   \n",
       "15696                      1  1.298583     -0.218264     -0.113780   \n",
       "5                          1 -1.538306     -0.635484      1.783380   \n",
       "14894                      1  0.343000     -0.011379      0.020502   \n",
       "\n",
       "       opening_ply  time_allotted  increment  ...  Counts_name_e87  \\\n",
       "2858     -0.648908      -0.221724  -0.372712  ...                0   \n",
       "7948      1.852692      -0.397451   0.351493  ...                0   \n",
       "15696    -0.291536      -0.280300  -0.010609  ...                0   \n",
       "5         0.065835       0.071153   1.799901  ...                0   \n",
       "14894     0.065835      -0.221724  -0.372712  ...                0   \n",
       "\n",
       "       Counts_name_e88  Counts_name_e90  Counts_name_e91  Counts_name_e92  \\\n",
       "2858                 0                0                0                0   \n",
       "7948                 0                0                0                0   \n",
       "15696                0                0                0                0   \n",
       "5                    0                0                0                0   \n",
       "14894                0                0                0                0   \n",
       "\n",
       "       Counts_name_e94  Counts_name_e95  Counts_name_e97  Counts_name_e98  \\\n",
       "2858                 0                0                0                0   \n",
       "7948                 0                0                0                0   \n",
       "15696                0                0                0                0   \n",
       "5                    0                0                0                0   \n",
       "14894                0                0                0                0   \n",
       "\n",
       "       winner_label  \n",
       "2858              0  \n",
       "7948              2  \n",
       "15696             0  \n",
       "5                 0  \n",
       "14894             0  \n",
       "\n",
       "[5 rows x 3429 columns]"
      ]
     },
     "execution_count": 3,
     "metadata": {},
     "output_type": "execute_result"
    }
   ],
   "source": [
    "train.head()"
   ]
  },
  {
   "cell_type": "markdown",
   "metadata": {},
   "source": [
    "Recall that the winner_label is the target variable, and values of 0 indicates that the players who chose black won, 1 indicates a draw, and 2 indicates that players who chose white won."
   ]
  },
  {
   "cell_type": "code",
   "execution_count": 4,
   "metadata": {},
   "outputs": [],
   "source": [
    "y = train['winner_label']\n",
    "X = train.drop(columns = 'winner_label')"
   ]
  },
  {
   "cell_type": "code",
   "execution_count": 5,
   "metadata": {},
   "outputs": [
    {
     "data": {
      "text/html": [
       "<div>\n",
       "<style scoped>\n",
       "    .dataframe tbody tr th:only-of-type {\n",
       "        vertical-align: middle;\n",
       "    }\n",
       "\n",
       "    .dataframe tbody tr th {\n",
       "        vertical-align: top;\n",
       "    }\n",
       "\n",
       "    .dataframe thead th {\n",
       "        text-align: right;\n",
       "    }\n",
       "</style>\n",
       "<table border=\"1\" class=\"dataframe\">\n",
       "  <thead>\n",
       "    <tr style=\"text-align: right;\">\n",
       "      <th></th>\n",
       "      <th>rated</th>\n",
       "      <th>victory_status_mate</th>\n",
       "      <th>victory_status_outoftime</th>\n",
       "      <th>victory_status_resign</th>\n",
       "      <th>turns</th>\n",
       "      <th>white_rating</th>\n",
       "      <th>black_rating</th>\n",
       "      <th>opening_ply</th>\n",
       "      <th>time_allotted</th>\n",
       "      <th>increment</th>\n",
       "      <th>...</th>\n",
       "      <th>Counts_name_e81</th>\n",
       "      <th>Counts_name_e87</th>\n",
       "      <th>Counts_name_e88</th>\n",
       "      <th>Counts_name_e90</th>\n",
       "      <th>Counts_name_e91</th>\n",
       "      <th>Counts_name_e92</th>\n",
       "      <th>Counts_name_e94</th>\n",
       "      <th>Counts_name_e95</th>\n",
       "      <th>Counts_name_e97</th>\n",
       "      <th>Counts_name_e98</th>\n",
       "    </tr>\n",
       "  </thead>\n",
       "  <tbody>\n",
       "    <tr>\n",
       "      <th>2858</th>\n",
       "      <td>0</td>\n",
       "      <td>1</td>\n",
       "      <td>0</td>\n",
       "      <td>0</td>\n",
       "      <td>0.163828</td>\n",
       "      <td>-0.976846</td>\n",
       "      <td>-0.378900</td>\n",
       "      <td>-0.648908</td>\n",
       "      <td>-0.221724</td>\n",
       "      <td>-0.372712</td>\n",
       "      <td>...</td>\n",
       "      <td>0</td>\n",
       "      <td>0</td>\n",
       "      <td>0</td>\n",
       "      <td>0</td>\n",
       "      <td>0</td>\n",
       "      <td>0</td>\n",
       "      <td>0</td>\n",
       "      <td>0</td>\n",
       "      <td>0</td>\n",
       "      <td>0</td>\n",
       "    </tr>\n",
       "    <tr>\n",
       "      <th>7948</th>\n",
       "      <td>1</td>\n",
       "      <td>0</td>\n",
       "      <td>0</td>\n",
       "      <td>1</td>\n",
       "      <td>0.790929</td>\n",
       "      <td>2.243676</td>\n",
       "      <td>1.463170</td>\n",
       "      <td>1.852692</td>\n",
       "      <td>-0.397451</td>\n",
       "      <td>0.351493</td>\n",
       "      <td>...</td>\n",
       "      <td>0</td>\n",
       "      <td>0</td>\n",
       "      <td>0</td>\n",
       "      <td>0</td>\n",
       "      <td>0</td>\n",
       "      <td>0</td>\n",
       "      <td>0</td>\n",
       "      <td>0</td>\n",
       "      <td>0</td>\n",
       "      <td>0</td>\n",
       "    </tr>\n",
       "    <tr>\n",
       "      <th>15696</th>\n",
       "      <td>1</td>\n",
       "      <td>0</td>\n",
       "      <td>0</td>\n",
       "      <td>1</td>\n",
       "      <td>1.298583</td>\n",
       "      <td>-0.218264</td>\n",
       "      <td>-0.113780</td>\n",
       "      <td>-0.291536</td>\n",
       "      <td>-0.280300</td>\n",
       "      <td>-0.010609</td>\n",
       "      <td>...</td>\n",
       "      <td>0</td>\n",
       "      <td>0</td>\n",
       "      <td>0</td>\n",
       "      <td>0</td>\n",
       "      <td>0</td>\n",
       "      <td>0</td>\n",
       "      <td>0</td>\n",
       "      <td>0</td>\n",
       "      <td>0</td>\n",
       "      <td>0</td>\n",
       "    </tr>\n",
       "    <tr>\n",
       "      <th>5</th>\n",
       "      <td>0</td>\n",
       "      <td>0</td>\n",
       "      <td>0</td>\n",
       "      <td>1</td>\n",
       "      <td>-1.538306</td>\n",
       "      <td>-0.635484</td>\n",
       "      <td>1.783380</td>\n",
       "      <td>0.065835</td>\n",
       "      <td>0.071153</td>\n",
       "      <td>1.799901</td>\n",
       "      <td>...</td>\n",
       "      <td>0</td>\n",
       "      <td>0</td>\n",
       "      <td>0</td>\n",
       "      <td>0</td>\n",
       "      <td>0</td>\n",
       "      <td>0</td>\n",
       "      <td>0</td>\n",
       "      <td>0</td>\n",
       "      <td>0</td>\n",
       "      <td>0</td>\n",
       "    </tr>\n",
       "    <tr>\n",
       "      <th>14894</th>\n",
       "      <td>1</td>\n",
       "      <td>0</td>\n",
       "      <td>0</td>\n",
       "      <td>1</td>\n",
       "      <td>0.343000</td>\n",
       "      <td>-0.011379</td>\n",
       "      <td>0.020502</td>\n",
       "      <td>0.065835</td>\n",
       "      <td>-0.221724</td>\n",
       "      <td>-0.372712</td>\n",
       "      <td>...</td>\n",
       "      <td>0</td>\n",
       "      <td>0</td>\n",
       "      <td>0</td>\n",
       "      <td>0</td>\n",
       "      <td>0</td>\n",
       "      <td>0</td>\n",
       "      <td>0</td>\n",
       "      <td>0</td>\n",
       "      <td>0</td>\n",
       "      <td>0</td>\n",
       "    </tr>\n",
       "  </tbody>\n",
       "</table>\n",
       "<p>5 rows × 3428 columns</p>\n",
       "</div>"
      ],
      "text/plain": [
       "       rated  victory_status_mate  victory_status_outoftime  \\\n",
       "2858       0                    1                         0   \n",
       "7948       1                    0                         0   \n",
       "15696      1                    0                         0   \n",
       "5          0                    0                         0   \n",
       "14894      1                    0                         0   \n",
       "\n",
       "       victory_status_resign     turns  white_rating  black_rating  \\\n",
       "2858                       0  0.163828     -0.976846     -0.378900   \n",
       "7948                       1  0.790929      2.243676      1.463170   \n",
       "15696                      1  1.298583     -0.218264     -0.113780   \n",
       "5                          1 -1.538306     -0.635484      1.783380   \n",
       "14894                      1  0.343000     -0.011379      0.020502   \n",
       "\n",
       "       opening_ply  time_allotted  increment  ...  Counts_name_e81  \\\n",
       "2858     -0.648908      -0.221724  -0.372712  ...                0   \n",
       "7948      1.852692      -0.397451   0.351493  ...                0   \n",
       "15696    -0.291536      -0.280300  -0.010609  ...                0   \n",
       "5         0.065835       0.071153   1.799901  ...                0   \n",
       "14894     0.065835      -0.221724  -0.372712  ...                0   \n",
       "\n",
       "       Counts_name_e87  Counts_name_e88  Counts_name_e90  Counts_name_e91  \\\n",
       "2858                 0                0                0                0   \n",
       "7948                 0                0                0                0   \n",
       "15696                0                0                0                0   \n",
       "5                    0                0                0                0   \n",
       "14894                0                0                0                0   \n",
       "\n",
       "       Counts_name_e92  Counts_name_e94  Counts_name_e95  Counts_name_e97  \\\n",
       "2858                 0                0                0                0   \n",
       "7948                 0                0                0                0   \n",
       "15696                0                0                0                0   \n",
       "5                    0                0                0                0   \n",
       "14894                0                0                0                0   \n",
       "\n",
       "       Counts_name_e98  \n",
       "2858                 0  \n",
       "7948                 0  \n",
       "15696                0  \n",
       "5                    0  \n",
       "14894                0  \n",
       "\n",
       "[5 rows x 3428 columns]"
      ]
     },
     "execution_count": 5,
     "metadata": {},
     "output_type": "execute_result"
    }
   ],
   "source": [
    "X.head()"
   ]
  },
  {
   "cell_type": "code",
   "execution_count": 6,
   "metadata": {},
   "outputs": [],
   "source": [
    "y_test = test['winner_label']\n",
    "X_test = test.drop(columns = 'winner_label')"
   ]
  },
  {
   "cell_type": "markdown",
   "metadata": {},
   "source": [
    "Let's do some basic modelling using default values and just checking some simple metrics like accuracy, just to see which models to the best initially."
   ]
  },
  {
   "cell_type": "markdown",
   "metadata": {},
   "source": [
    "## Logistic Regression"
   ]
  },
  {
   "cell_type": "code",
   "execution_count": 7,
   "metadata": {},
   "outputs": [
    {
     "data": {
      "text/plain": [
       "LogisticRegression(random_state=42, solver='liblinear')"
      ]
     },
     "execution_count": 7,
     "metadata": {},
     "output_type": "execute_result"
    }
   ],
   "source": [
    "#if don't use solver='liblinear', we get an error about str not being able to decode, \n",
    "#probably related to the victory status columns\n",
    "lr = LogisticRegression(solver='liblinear', random_state=42)\n",
    "\n",
    "lr.fit(X, y)"
   ]
  },
  {
   "cell_type": "code",
   "execution_count": 8,
   "metadata": {},
   "outputs": [
    {
     "data": {
      "text/plain": [
       "0.8231477605692759"
      ]
     },
     "execution_count": 8,
     "metadata": {},
     "output_type": "execute_result"
    }
   ],
   "source": [
    "lr.score(X, y)"
   ]
  },
  {
   "cell_type": "code",
   "execution_count": 17,
   "metadata": {},
   "outputs": [],
   "source": [
    "y_pred = lr.predict(X_test)"
   ]
  },
  {
   "cell_type": "code",
   "execution_count": 10,
   "metadata": {},
   "outputs": [
    {
     "data": {
      "text/plain": [
       "0.7625026156099602"
      ]
     },
     "execution_count": 10,
     "metadata": {},
     "output_type": "execute_result"
    }
   ],
   "source": [
    "lr.score(X_test, y_test)"
   ]
  },
  {
   "cell_type": "code",
   "execution_count": 31,
   "metadata": {},
   "outputs": [
    {
     "data": {
      "image/png": "[encoded data removed]",
      "text/plain": [
       "<Figure size 432x288 with 2 Axes>"
      ]
     },
     "metadata": {
      "needs_background": "light"
     },
     "output_type": "display_data"
    }
   ],
   "source": [
    "con_mat = confusion_matrix(y_test, y_pred)\n",
    "\n",
    "sns.heatmap(con_mat, annot = True, fmt = 'g', cmap='Blues', annot_kws={\"size\": 14},\n",
    "            xticklabels = [\"black\", \"draw\", \"white\"], yticklabels = [\"black\", \"draw\", \"white\"])\n",
    "plt.xlabel('predicted', fontsize=16)\n",
    "plt.ylabel('actual', fontsize=16)\n",
    "plt.title('Confusion matrix for turns feature', fontsize=18)\n",
    "plt.show()"
   ]
  },
  {
   "cell_type": "code",
   "execution_count": 46,
   "metadata": {},
   "outputs": [
    {
     "data": {
      "text/plain": [
       "GridSearchCV(estimator=LogisticRegression(random_state=42, solver='liblinear'),\n",
       "             param_grid={'max_iter': [50, 75, 100, 125],\n",
       "                         'penalty': ['l1', 'l2']})"
      ]
     },
     "execution_count": 46,
     "metadata": {},
     "output_type": "execute_result"
    }
   ],
   "source": [
    "parameters = {'penalty': ['l1', 'l2'], 'max_iter': [50, 75, 100, 125]}\n",
    "\n",
    "lr = LogisticRegression(solver = 'liblinear', random_state=42)\n",
    "\n",
    "clf = GridSearchCV(lr, parameters)\n",
    "\n",
    "clf.fit(X, y)"
   ]
  },
  {
   "cell_type": "code",
   "execution_count": null,
   "metadata": {},
   "outputs": [],
   "source": [
    "clf.score(X, y)"
   ]
  },
  {
   "cell_type": "code",
   "execution_count": 43,
   "metadata": {},
   "outputs": [
    {
     "data": {
      "text/plain": [
       "0.771918811466834"
      ]
     },
     "execution_count": 43,
     "metadata": {},
     "output_type": "execute_result"
    }
   ],
   "source": [
    "clf.score(X_test, y_test)"
   ]
  },
  {
   "cell_type": "code",
   "execution_count": 44,
   "metadata": {},
   "outputs": [
    {
     "data": {
      "text/plain": [
       "{'penalty': 'l1', 'solver': 'liblinear'}"
      ]
     },
     "execution_count": 44,
     "metadata": {},
     "output_type": "execute_result"
    }
   ],
   "source": [
    "clf.best_params_"
   ]
  },
  {
   "cell_type": "markdown",
   "metadata": {},
   "source": [
    "## Decision Tree\n",
    "\n",
    "We can try a decision tree first, but after if the random forest model gives a better score than we will probably just stick to that to prevent overfitting, since we have so many columns (and random forest tend to overfit less than decision trees)."
   ]
  },
  {
   "cell_type": "code",
   "execution_count": 12,
   "metadata": {},
   "outputs": [
    {
     "data": {
      "text/plain": [
       "DecisionTreeClassifier()"
      ]
     },
     "execution_count": 12,
     "metadata": {},
     "output_type": "execute_result"
    }
   ],
   "source": [
    "from sklearn.tree import DecisionTreeClassifier\n",
    "\n",
    "dt = DecisionTreeClassifier()\n",
    "\n",
    "dt.fit(X, y)"
   ]
  },
  {
   "cell_type": "code",
   "execution_count": 35,
   "metadata": {},
   "outputs": [
    {
     "data": {
      "text/plain": [
       "1.0"
      ]
     },
     "execution_count": 35,
     "metadata": {},
     "output_type": "execute_result"
    }
   ],
   "source": [
    "dt.score(X, y)"
   ]
  },
  {
   "cell_type": "code",
   "execution_count": 36,
   "metadata": {},
   "outputs": [
    {
     "data": {
      "text/plain": [
       "0.6076585059635907"
      ]
     },
     "execution_count": 36,
     "metadata": {},
     "output_type": "execute_result"
    }
   ],
   "source": [
    "dt.score(X_test, y_test)"
   ]
  },
  {
   "cell_type": "markdown",
   "metadata": {},
   "source": [
    "Looks like the decision tree overfit based on the training data."
   ]
  },
  {
   "cell_type": "markdown",
   "metadata": {},
   "source": [
    "## Random Forest"
   ]
  },
  {
   "cell_type": "code",
   "execution_count": 32,
   "metadata": {},
   "outputs": [
    {
     "data": {
      "text/plain": [
       "RandomForestClassifier()"
      ]
     },
     "execution_count": 32,
     "metadata": {},
     "output_type": "execute_result"
    }
   ],
   "source": [
    "from sklearn.ensemble import RandomForestClassifier\n",
    "\n",
    "rf = RandomForestClassifier()\n",
    "\n",
    "rf.fit(X, y)"
   ]
  },
  {
   "cell_type": "code",
   "execution_count": 33,
   "metadata": {},
   "outputs": [
    {
     "data": {
      "text/plain": [
       "1.0"
      ]
     },
     "execution_count": 33,
     "metadata": {},
     "output_type": "execute_result"
    }
   ],
   "source": [
    "rf.score(X, y)"
   ]
  },
  {
   "cell_type": "code",
   "execution_count": 34,
   "metadata": {},
   "outputs": [
    {
     "data": {
      "text/plain": [
       "0.7242100857920067"
      ]
     },
     "execution_count": 34,
     "metadata": {},
     "output_type": "execute_result"
    }
   ],
   "source": [
    "rf.score(X_test, y_test)"
   ]
  },
  {
   "cell_type": "markdown",
   "metadata": {},
   "source": [
    "Random forest overfits on the training data again, but the testing data has a better score. The fiting time here was somewhat long though, so default values will definitely not be kept. Let's move onto Grid Search now."
   ]
  },
  {
   "cell_type": "code",
   "execution_count": 47,
   "metadata": {},
   "outputs": [
    {
     "data": {
      "text/plain": [
       "GridSearchCV(estimator=RandomForestClassifier(random_state=42),\n",
       "             param_grid={'max_depth': [3, 5, 7], 'min_samples_split': [3, 5, 7],\n",
       "                         'n_estimators': [50, 75, 100, 125]})"
      ]
     },
     "execution_count": 47,
     "metadata": {},
     "output_type": "execute_result"
    }
   ],
   "source": [
    "parameters = {'n_estimators': [50, 75, 100, 125], \n",
    "              'max_depth': [3, 5, 7], \n",
    "              'min_samples_split': [3, 5, 7], \n",
    "              'min_samples_leaf':[1, 3, 5]}\n",
    "\n",
    "rf = RandomForestClassifier(random_state=42)\n",
    "\n",
    "clf = GridSearchCV(rf, parameters)\n",
    "\n",
    "clf.fit(X, y)"
   ]
  },
  {
   "cell_type": "code",
   "execution_count": 50,
   "metadata": {},
   "outputs": [
    {
     "data": {
      "text/plain": [
       "0.690316729454444"
      ]
     },
     "execution_count": 50,
     "metadata": {},
     "output_type": "execute_result"
    }
   ],
   "source": [
    "clf.score(X, y)"
   ]
  },
  {
   "cell_type": "code",
   "execution_count": 48,
   "metadata": {},
   "outputs": [
    {
     "data": {
      "text/plain": [
       "0.6626909395270977"
      ]
     },
     "execution_count": 48,
     "metadata": {},
     "output_type": "execute_result"
    }
   ],
   "source": [
    "clf.score(X_test, y_test)"
   ]
  },
  {
   "cell_type": "code",
   "execution_count": 49,
   "metadata": {},
   "outputs": [
    {
     "data": {
      "text/plain": [
       "{'max_depth': 7, 'min_samples_split': 3, 'n_estimators': 125}"
      ]
     },
     "execution_count": 49,
     "metadata": {},
     "output_type": "execute_result"
    }
   ],
   "source": [
    "clf.best_params_"
   ]
  },
  {
   "cell_type": "markdown",
   "metadata": {},
   "source": [
    "## Naive Bayes"
   ]
  },
  {
   "cell_type": "code",
   "execution_count": 14,
   "metadata": {},
   "outputs": [
    {
     "data": {
      "text/plain": [
       "GaussianNB()"
      ]
     },
     "execution_count": 14,
     "metadata": {},
     "output_type": "execute_result"
    }
   ],
   "source": [
    "from sklearn.naive_bayes import GaussianNB\n",
    "\n",
    "nb = GaussianNB()\n",
    "\n",
    "nb.fit(X, y)"
   ]
  },
  {
   "cell_type": "code",
   "execution_count": 10,
   "metadata": {},
   "outputs": [
    {
     "data": {
      "text/plain": [
       "0.5828798660527418"
      ]
     },
     "execution_count": 10,
     "metadata": {},
     "output_type": "execute_result"
    }
   ],
   "source": [
    "nb.score(X, y)"
   ]
  },
  {
   "cell_type": "code",
   "execution_count": 38,
   "metadata": {},
   "outputs": [
    {
     "data": {
      "text/plain": [
       "0.5024063611634233"
      ]
     },
     "execution_count": 38,
     "metadata": {},
     "output_type": "execute_result"
    }
   ],
   "source": [
    "nb.score(X_test, y_test)"
   ]
  },
  {
   "cell_type": "markdown",
   "metadata": {},
   "source": [
    "This model seems to have done the worst. But now we can use Grid Search to assist in hyperparameter tuning."
   ]
  },
  {
   "cell_type": "code",
   "execution_count": 55,
   "metadata": {},
   "outputs": [
    {
     "data": {
      "text/plain": [
       "GridSearchCV(estimator=GaussianNB(),\n",
       "             param_grid={'var_smoothing': [0.01, 0.0001, 1e-06, 1e-08, 1e-10]})"
      ]
     },
     "execution_count": 55,
     "metadata": {},
     "output_type": "execute_result"
    }
   ],
   "source": [
    "parameters = {'var_smoothing': [1e-2, 1e-4, 1e-6, 1e-8, 1e-10]}\n",
    "\n",
    "nb = GaussianNB()\n",
    "\n",
    "clf = GridSearchCV(nb, parameters)\n",
    "\n",
    "clf.fit(X, y)"
   ]
  },
  {
   "cell_type": "code",
   "execution_count": 56,
   "metadata": {},
   "outputs": [
    {
     "data": {
      "text/plain": [
       "0.6414120273475652"
      ]
     },
     "execution_count": 56,
     "metadata": {},
     "output_type": "execute_result"
    }
   ],
   "source": [
    "clf.score(X, y)"
   ]
  },
  {
   "cell_type": "code",
   "execution_count": 57,
   "metadata": {},
   "outputs": [
    {
     "data": {
      "text/plain": [
       "0.6185394433982004"
      ]
     },
     "execution_count": 57,
     "metadata": {},
     "output_type": "execute_result"
    }
   ],
   "source": [
    "clf.score(X_test, y_test)"
   ]
  },
  {
   "cell_type": "code",
   "execution_count": 58,
   "metadata": {},
   "outputs": [
    {
     "data": {
      "text/plain": [
       "{'var_smoothing': 0.01}"
      ]
     },
     "execution_count": 58,
     "metadata": {},
     "output_type": "execute_result"
    }
   ],
   "source": [
    "clf.best_params_"
   ]
  },
  {
   "cell_type": "code",
   "execution_count": null,
   "metadata": {},
   "outputs": [],
   "source": []
  }
 ],
 "metadata": {
  "kernelspec": {
   "display_name": "Python 3",
   "language": "python",
   "name": "python3"
  },
  "language_info": {
   "codemirror_mode": {
    "name": "ipython",
    "version": 3
   },
   "file_extension": ".py",
   "mimetype": "text/x-python",
   "name": "python",
   "nbconvert_exporter": "python",
   "pygments_lexer": "ipython3",
   "version": "3.8.5"
  }
 },
 "nbformat": 4,
 "nbformat_minor": 4
}
