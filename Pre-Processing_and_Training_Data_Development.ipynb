{
 "cells": [
  {
   "cell_type": "markdown",
   "metadata": {},
   "source": [
    "# Pre-Processing\n",
    "\n",
    "In this notebook the chess data will be pre-processed for model development. "
   ]
  },
  {
   "cell_type": "code",
   "execution_count": 101,
   "metadata": {},
   "outputs": [],
   "source": [
    "import numpy as np\n",
    "import pandas as pd\n",
    "import matplotlib.pyplot as plt\n",
    "from sklearn.preprocessing import OneHotEncoder\n",
    "from scipy import stats\n",
    "from sklearn.preprocessing import scale\n",
    "from sklearn.feature_extraction.text import CountVectorizer\n",
    "from sklearn.preprocessing import LabelEncoder\n",
    "from sklearn.model_selection import train_test_split\n",
    "from collections import Counter"
   ]
  },
  {
   "cell_type": "code",
   "execution_count": 70,
   "metadata": {},
   "outputs": [
    {
     "data": {
      "text/html": [
       "<div>\n",
       "<style scoped>\n",
       "    .dataframe tbody tr th:only-of-type {\n",
       "        vertical-align: middle;\n",
       "    }\n",
       "\n",
       "    .dataframe tbody tr th {\n",
       "        vertical-align: top;\n",
       "    }\n",
       "\n",
       "    .dataframe thead th {\n",
       "        text-align: right;\n",
       "    }\n",
       "</style>\n",
       "<table border=\"1\" class=\"dataframe\">\n",
       "  <thead>\n",
       "    <tr style=\"text-align: right;\">\n",
       "      <th></th>\n",
       "      <th>id</th>\n",
       "      <th>rated</th>\n",
       "      <th>turns</th>\n",
       "      <th>victory_status</th>\n",
       "      <th>winner</th>\n",
       "      <th>white_id</th>\n",
       "      <th>white_rating</th>\n",
       "      <th>black_id</th>\n",
       "      <th>black_rating</th>\n",
       "      <th>moves</th>\n",
       "      <th>opening_eco</th>\n",
       "      <th>opening_name</th>\n",
       "      <th>opening_ply</th>\n",
       "      <th>time_allotted</th>\n",
       "      <th>increment</th>\n",
       "    </tr>\n",
       "  </thead>\n",
       "  <tbody>\n",
       "    <tr>\n",
       "      <th>0</th>\n",
       "      <td>TZJHLljE</td>\n",
       "      <td>False</td>\n",
       "      <td>13</td>\n",
       "      <td>outoftime</td>\n",
       "      <td>white</td>\n",
       "      <td>bourgris</td>\n",
       "      <td>1500</td>\n",
       "      <td>a-00</td>\n",
       "      <td>1191</td>\n",
       "      <td>d4 d5 c4 c6 cxd5 e6 dxe6 fxe6 Nf3 Bb4+ Nc3 Ba5...</td>\n",
       "      <td>D10</td>\n",
       "      <td>Slav Defense: Exchange Variation</td>\n",
       "      <td>5</td>\n",
       "      <td>15</td>\n",
       "      <td>2</td>\n",
       "    </tr>\n",
       "    <tr>\n",
       "      <th>1</th>\n",
       "      <td>l1NXvwaE</td>\n",
       "      <td>True</td>\n",
       "      <td>16</td>\n",
       "      <td>resign</td>\n",
       "      <td>black</td>\n",
       "      <td>a-00</td>\n",
       "      <td>1322</td>\n",
       "      <td>skinnerua</td>\n",
       "      <td>1261</td>\n",
       "      <td>d4 Nc6 e4 e5 f4 f6 dxe5 fxe5 fxe5 Nxe5 Qd4 Nc6...</td>\n",
       "      <td>B00</td>\n",
       "      <td>Nimzowitsch Defense: Kennedy Variation</td>\n",
       "      <td>4</td>\n",
       "      <td>5</td>\n",
       "      <td>10</td>\n",
       "    </tr>\n",
       "    <tr>\n",
       "      <th>2</th>\n",
       "      <td>mIICvQHh</td>\n",
       "      <td>True</td>\n",
       "      <td>61</td>\n",
       "      <td>mate</td>\n",
       "      <td>white</td>\n",
       "      <td>ischia</td>\n",
       "      <td>1496</td>\n",
       "      <td>a-00</td>\n",
       "      <td>1500</td>\n",
       "      <td>e4 e5 d3 d6 Be3 c6 Be2 b5 Nd2 a5 a4 c5 axb5 Nc...</td>\n",
       "      <td>C20</td>\n",
       "      <td>King's Pawn Game: Leonardis Variation</td>\n",
       "      <td>3</td>\n",
       "      <td>5</td>\n",
       "      <td>10</td>\n",
       "    </tr>\n",
       "  </tbody>\n",
       "</table>\n",
       "</div>"
      ],
      "text/plain": [
       "         id  rated  turns victory_status winner  white_id  white_rating  \\\n",
       "0  TZJHLljE  False     13      outoftime  white  bourgris          1500   \n",
       "1  l1NXvwaE   True     16         resign  black      a-00          1322   \n",
       "2  mIICvQHh   True     61           mate  white    ischia          1496   \n",
       "\n",
       "    black_id  black_rating                                              moves  \\\n",
       "0       a-00          1191  d4 d5 c4 c6 cxd5 e6 dxe6 fxe6 Nf3 Bb4+ Nc3 Ba5...   \n",
       "1  skinnerua          1261  d4 Nc6 e4 e5 f4 f6 dxe5 fxe5 fxe5 Nxe5 Qd4 Nc6...   \n",
       "2       a-00          1500  e4 e5 d3 d6 Be3 c6 Be2 b5 Nd2 a5 a4 c5 axb5 Nc...   \n",
       "\n",
       "  opening_eco                            opening_name  opening_ply  \\\n",
       "0         D10        Slav Defense: Exchange Variation            5   \n",
       "1         B00  Nimzowitsch Defense: Kennedy Variation            4   \n",
       "2         C20   King's Pawn Game: Leonardis Variation            3   \n",
       "\n",
       "   time_allotted  increment  \n",
       "0             15          2  \n",
       "1              5         10  \n",
       "2              5         10  "
      ]
     },
     "execution_count": 70,
     "metadata": {},
     "output_type": "execute_result"
    }
   ],
   "source": [
    "chess_df = pd.read_pickle('EDA_df.pkl')\n",
    "chess_df.head(3)"
   ]
  },
  {
   "cell_type": "markdown",
   "metadata": {},
   "source": [
    "There are a few things to do here. First is to encode categorical columns. Next is to standardize the numeric columns. And the last thing to do is to tokenize the text columns. But first, let's make a copy of the dataframe in case we want to keep the original for whatever reason. Also, let's drop the id columns."
   ]
  },
  {
   "cell_type": "code",
   "execution_count": 71,
   "metadata": {},
   "outputs": [],
   "source": [
    "#let's make a copy and work with this, in case we need the original later on\n",
    "df = chess_df.copy()"
   ]
  },
  {
   "cell_type": "code",
   "execution_count": 72,
   "metadata": {},
   "outputs": [],
   "source": [
    "df.drop(columns=['id', 'white_id', 'black_id'], inplace=True)"
   ]
  },
  {
   "cell_type": "markdown",
   "metadata": {},
   "source": [
    "## Encoding Categorical Columns"
   ]
  },
  {
   "cell_type": "code",
   "execution_count": 73,
   "metadata": {},
   "outputs": [],
   "source": [
    "#replacing True and False values with 0's and 1's\n",
    "df['rated'].replace({False:0, True:1}, inplace=True)"
   ]
  },
  {
   "cell_type": "markdown",
   "metadata": {},
   "source": [
    "Next let's one hot encode the `victory_status` column."
   ]
  },
  {
   "cell_type": "code",
   "execution_count": 74,
   "metadata": {},
   "outputs": [
    {
     "data": {
      "text/plain": [
       "resign       10695\n",
       "mate          5974\n",
       "outoftime     1598\n",
       "draw           846\n",
       "Name: victory_status, dtype: int64"
      ]
     },
     "execution_count": 74,
     "metadata": {},
     "output_type": "execute_result"
    }
   ],
   "source": [
    "#perhaps unneccessary, we can drop the one-hot encoded column with the least occurences, \n",
    "#since one column will be represented by all the other encoded columns with zero\n",
    "df['victory_status'].value_counts()"
   ]
  },
  {
   "cell_type": "code",
   "execution_count": 75,
   "metadata": {},
   "outputs": [],
   "source": [
    "df = pd.get_dummies(df, columns = ['victory_status'])"
   ]
  },
  {
   "cell_type": "code",
   "execution_count": 76,
   "metadata": {},
   "outputs": [],
   "source": [
    "#now lets get rid of the victory_status column and the encoded draw column\n",
    "df.drop(columns=['victory_status_draw'], inplace=True)"
   ]
  },
  {
   "cell_type": "code",
   "execution_count": 77,
   "metadata": {},
   "outputs": [
    {
     "data": {
      "text/html": [
       "<div>\n",
       "<style scoped>\n",
       "    .dataframe tbody tr th:only-of-type {\n",
       "        vertical-align: middle;\n",
       "    }\n",
       "\n",
       "    .dataframe tbody tr th {\n",
       "        vertical-align: top;\n",
       "    }\n",
       "\n",
       "    .dataframe thead th {\n",
       "        text-align: right;\n",
       "    }\n",
       "</style>\n",
       "<table border=\"1\" class=\"dataframe\">\n",
       "  <thead>\n",
       "    <tr style=\"text-align: right;\">\n",
       "      <th></th>\n",
       "      <th>rated</th>\n",
       "      <th>turns</th>\n",
       "      <th>winner</th>\n",
       "      <th>white_rating</th>\n",
       "      <th>black_rating</th>\n",
       "      <th>moves</th>\n",
       "      <th>opening_eco</th>\n",
       "      <th>opening_name</th>\n",
       "      <th>opening_ply</th>\n",
       "      <th>time_allotted</th>\n",
       "      <th>increment</th>\n",
       "      <th>victory_status_mate</th>\n",
       "      <th>victory_status_outoftime</th>\n",
       "      <th>victory_status_resign</th>\n",
       "    </tr>\n",
       "  </thead>\n",
       "  <tbody>\n",
       "    <tr>\n",
       "      <th>0</th>\n",
       "      <td>0</td>\n",
       "      <td>13</td>\n",
       "      <td>white</td>\n",
       "      <td>1500</td>\n",
       "      <td>1191</td>\n",
       "      <td>d4 d5 c4 c6 cxd5 e6 dxe6 fxe6 Nf3 Bb4+ Nc3 Ba5...</td>\n",
       "      <td>D10</td>\n",
       "      <td>Slav Defense: Exchange Variation</td>\n",
       "      <td>5</td>\n",
       "      <td>15</td>\n",
       "      <td>2</td>\n",
       "      <td>0</td>\n",
       "      <td>1</td>\n",
       "      <td>0</td>\n",
       "    </tr>\n",
       "    <tr>\n",
       "      <th>1</th>\n",
       "      <td>1</td>\n",
       "      <td>16</td>\n",
       "      <td>black</td>\n",
       "      <td>1322</td>\n",
       "      <td>1261</td>\n",
       "      <td>d4 Nc6 e4 e5 f4 f6 dxe5 fxe5 fxe5 Nxe5 Qd4 Nc6...</td>\n",
       "      <td>B00</td>\n",
       "      <td>Nimzowitsch Defense: Kennedy Variation</td>\n",
       "      <td>4</td>\n",
       "      <td>5</td>\n",
       "      <td>10</td>\n",
       "      <td>0</td>\n",
       "      <td>0</td>\n",
       "      <td>1</td>\n",
       "    </tr>\n",
       "  </tbody>\n",
       "</table>\n",
       "</div>"
      ],
      "text/plain": [
       "   rated  turns winner  white_rating  black_rating  \\\n",
       "0      0     13  white          1500          1191   \n",
       "1      1     16  black          1322          1261   \n",
       "\n",
       "                                               moves opening_eco  \\\n",
       "0  d4 d5 c4 c6 cxd5 e6 dxe6 fxe6 Nf3 Bb4+ Nc3 Ba5...         D10   \n",
       "1  d4 Nc6 e4 e5 f4 f6 dxe5 fxe5 fxe5 Nxe5 Qd4 Nc6...         B00   \n",
       "\n",
       "                             opening_name  opening_ply  time_allotted  \\\n",
       "0        Slav Defense: Exchange Variation            5             15   \n",
       "1  Nimzowitsch Defense: Kennedy Variation            4              5   \n",
       "\n",
       "   increment  victory_status_mate  victory_status_outoftime  \\\n",
       "0          2                    0                         1   \n",
       "1         10                    0                         0   \n",
       "\n",
       "   victory_status_resign  \n",
       "0                      0  \n",
       "1                      1  "
      ]
     },
     "execution_count": 77,
     "metadata": {},
     "output_type": "execute_result"
    }
   ],
   "source": [
    "df.head(2)"
   ]
  },
  {
   "cell_type": "markdown",
   "metadata": {},
   "source": [
    "## Standardizing Numeric Columns\n",
    "\n",
    "The numeric columns need to be adjusted before modeling. We can standardize them with their respective means and standard deviation. We may use algorithms that make assumptions that depends on the columns having a gaussian distribution, which is why we standardize, but we should check the gaussian distributions first."
   ]
  },
  {
   "cell_type": "code",
   "execution_count": 78,
   "metadata": {},
   "outputs": [],
   "source": [
    "#here are out numeric columns all in one list \n",
    "numeric_cols = ['turns', 'white_rating', 'black_rating', 'opening_ply', 'time_allotted', 'increment']"
   ]
  },
  {
   "cell_type": "code",
   "execution_count": 79,
   "metadata": {},
   "outputs": [],
   "source": [
    "#make a function to quickly plot the probability distribution function of numeric columns\n",
    "def normal_dist(feature_name, dataframe, ax=None):\n",
    "    feature_df = dataframe[[feature_name]]\n",
    "    \n",
    "    #mean ad std\n",
    "    mean = feature_df.mean()\n",
    "    std = feature_df.std()\n",
    "    \n",
    "    #get the probability distribution function\n",
    "    pdf = stats.norm.pdf(feature_df.sort_values(by=feature_name), loc=mean, scale=std)\n",
    "    \n",
    "    fig = ax.plot(feature_df.sort_values(by=feature_name)[feature_name], pdf)\n",
    "    return fig"
   ]
  },
  {
   "cell_type": "code",
   "execution_count": 80,
   "metadata": {},
   "outputs": [
    {
     "data": {
      "image/png": "[encoded data removed]",
      "text/plain": [
       "<Figure size 1152x720 with 6 Axes>"
      ]
     },
     "metadata": {
      "needs_background": "light"
     },
     "output_type": "display_data"
    }
   ],
   "source": [
    "#making all plots in one subplot to make it easier to see them all at once\n",
    "fig, axs = plt.subplots(2, 3, figsize=(16,10))\n",
    "normal_dist('turns', df, axs[0, 0])\n",
    "axs[0, 0].title.set_text('PDF for the turns feature')\n",
    "\n",
    "normal_dist('white_rating', df, axs[0, 1])\n",
    "axs[0, 1].title.set_text('PDF for the white_rating feature')\n",
    "\n",
    "normal_dist('black_rating', df, axs[1, 0])\n",
    "axs[1, 0].title.set_text('PDF for the black_rating feature')\n",
    "\n",
    "normal_dist('opening_ply', df, axs[1, 1])\n",
    "axs[1, 1].title.set_text('PDF for the opening_ply feature')\n",
    "\n",
    "normal_dist('time_allotted', df, axs[0, 2])\n",
    "axs[0, 2].title.set_text('PDF for the time_allotted feature')\n",
    "\n",
    "normal_dist('increment', df, axs[1, 2])\n",
    "axs[1, 2].title.set_text('PDF for the increment feature')\n",
    "plt.show()"
   ]
  },
  {
   "cell_type": "markdown",
   "metadata": {},
   "source": [
    "So it looks like all the numeric features follow a normal distribution, though a few are notably skewed. In any case, this gives us good reason to continue with standardizing these variables."
   ]
  },
  {
   "cell_type": "code",
   "execution_count": 81,
   "metadata": {},
   "outputs": [
    {
     "data": {
      "text/html": [
       "<div>\n",
       "<style scoped>\n",
       "    .dataframe tbody tr th:only-of-type {\n",
       "        vertical-align: middle;\n",
       "    }\n",
       "\n",
       "    .dataframe tbody tr th {\n",
       "        vertical-align: top;\n",
       "    }\n",
       "\n",
       "    .dataframe thead th {\n",
       "        text-align: right;\n",
       "    }\n",
       "</style>\n",
       "<table border=\"1\" class=\"dataframe\">\n",
       "  <thead>\n",
       "    <tr style=\"text-align: right;\">\n",
       "      <th></th>\n",
       "      <th>turns</th>\n",
       "      <th>white_rating</th>\n",
       "      <th>black_rating</th>\n",
       "      <th>opening_ply</th>\n",
       "      <th>time_allotted</th>\n",
       "      <th>increment</th>\n",
       "    </tr>\n",
       "  </thead>\n",
       "  <tbody>\n",
       "    <tr>\n",
       "      <th>0</th>\n",
       "      <td>-1.418858</td>\n",
       "      <td>-0.335500</td>\n",
       "      <td>-1.373962</td>\n",
       "      <td>0.065835</td>\n",
       "      <td>0.071153</td>\n",
       "      <td>-0.227871</td>\n",
       "    </tr>\n",
       "    <tr>\n",
       "      <th>1</th>\n",
       "      <td>-1.329272</td>\n",
       "      <td>-0.949261</td>\n",
       "      <td>-1.132944</td>\n",
       "      <td>-0.291536</td>\n",
       "      <td>-0.514602</td>\n",
       "      <td>0.351493</td>\n",
       "    </tr>\n",
       "    <tr>\n",
       "      <th>2</th>\n",
       "      <td>0.014518</td>\n",
       "      <td>-0.349292</td>\n",
       "      <td>-0.310038</td>\n",
       "      <td>-0.648908</td>\n",
       "      <td>-0.514602</td>\n",
       "      <td>0.351493</td>\n",
       "    </tr>\n",
       "  </tbody>\n",
       "</table>\n",
       "</div>"
      ],
      "text/plain": [
       "      turns  white_rating  black_rating  opening_ply  time_allotted  increment\n",
       "0 -1.418858     -0.335500     -1.373962     0.065835       0.071153  -0.227871\n",
       "1 -1.329272     -0.949261     -1.132944    -0.291536      -0.514602   0.351493\n",
       "2  0.014518     -0.349292     -0.310038    -0.648908      -0.514602   0.351493"
      ]
     },
     "execution_count": 81,
     "metadata": {},
     "output_type": "execute_result"
    }
   ],
   "source": [
    "standardized = scale(df[numeric_cols])\n",
    "\n",
    "stand_df = pd.DataFrame(standardized, columns = numeric_cols)\n",
    "\n",
    "stand_df.head(3)"
   ]
  },
  {
   "cell_type": "markdown",
   "metadata": {},
   "source": [
    "Let's double check to make sure this worked and that the pdf's are still the same, but scaled."
   ]
  },
  {
   "cell_type": "code",
   "execution_count": 82,
   "metadata": {},
   "outputs": [
    {
     "data": {
      "image/png": "[encoded data removed]",
      "text/plain": [
       "<Figure size 1152x720 with 6 Axes>"
      ]
     },
     "metadata": {
      "needs_background": "light"
     },
     "output_type": "display_data"
    }
   ],
   "source": [
    "fig, axs = plt.subplots(2, 3, figsize=(16,10))\n",
    "normal_dist('turns', stand_df, axs[0, 0])\n",
    "axs[0, 0].title.set_text('PDF for the turns feature')\n",
    "\n",
    "normal_dist('white_rating', df, axs[0, 1])\n",
    "axs[0, 1].title.set_text('PDF for the white_rating feature')\n",
    "\n",
    "normal_dist('black_rating', stand_df, axs[1, 0])\n",
    "axs[1, 0].title.set_text('PDF for the black_rating feature')\n",
    "\n",
    "normal_dist('opening_ply', stand_df, axs[1, 1])\n",
    "axs[1, 1].title.set_text('PDF for the opening_ply feature')\n",
    "\n",
    "normal_dist('time_allotted', stand_df, axs[0, 2])\n",
    "axs[0, 2].title.set_text('PDF for the time_allotted feature')\n",
    "\n",
    "normal_dist('increment', stand_df, axs[1, 2])\n",
    "axs[1, 2].title.set_text('PDF for the increment feature')\n",
    "plt.show()"
   ]
  },
  {
   "cell_type": "markdown",
   "metadata": {},
   "source": [
    "Look's like everything worked as intended. To finish this, let's replace the numeric columns with these standardized columns."
   ]
  },
  {
   "cell_type": "code",
   "execution_count": 83,
   "metadata": {},
   "outputs": [
    {
     "data": {
      "text/html": [
       "<div>\n",
       "<style scoped>\n",
       "    .dataframe tbody tr th:only-of-type {\n",
       "        vertical-align: middle;\n",
       "    }\n",
       "\n",
       "    .dataframe tbody tr th {\n",
       "        vertical-align: top;\n",
       "    }\n",
       "\n",
       "    .dataframe thead th {\n",
       "        text-align: right;\n",
       "    }\n",
       "</style>\n",
       "<table border=\"1\" class=\"dataframe\">\n",
       "  <thead>\n",
       "    <tr style=\"text-align: right;\">\n",
       "      <th></th>\n",
       "      <th>rated</th>\n",
       "      <th>winner</th>\n",
       "      <th>moves</th>\n",
       "      <th>opening_eco</th>\n",
       "      <th>opening_name</th>\n",
       "      <th>victory_status_mate</th>\n",
       "      <th>victory_status_outoftime</th>\n",
       "      <th>victory_status_resign</th>\n",
       "      <th>turns</th>\n",
       "      <th>white_rating</th>\n",
       "      <th>black_rating</th>\n",
       "      <th>opening_ply</th>\n",
       "      <th>time_allotted</th>\n",
       "      <th>increment</th>\n",
       "    </tr>\n",
       "  </thead>\n",
       "  <tbody>\n",
       "    <tr>\n",
       "      <th>0</th>\n",
       "      <td>0</td>\n",
       "      <td>white</td>\n",
       "      <td>d4 d5 c4 c6 cxd5 e6 dxe6 fxe6 Nf3 Bb4+ Nc3 Ba5...</td>\n",
       "      <td>D10</td>\n",
       "      <td>Slav Defense: Exchange Variation</td>\n",
       "      <td>0</td>\n",
       "      <td>1</td>\n",
       "      <td>0</td>\n",
       "      <td>-1.418858</td>\n",
       "      <td>-0.335500</td>\n",
       "      <td>-1.373962</td>\n",
       "      <td>0.065835</td>\n",
       "      <td>0.071153</td>\n",
       "      <td>-0.227871</td>\n",
       "    </tr>\n",
       "    <tr>\n",
       "      <th>1</th>\n",
       "      <td>1</td>\n",
       "      <td>black</td>\n",
       "      <td>d4 Nc6 e4 e5 f4 f6 dxe5 fxe5 fxe5 Nxe5 Qd4 Nc6...</td>\n",
       "      <td>B00</td>\n",
       "      <td>Nimzowitsch Defense: Kennedy Variation</td>\n",
       "      <td>0</td>\n",
       "      <td>0</td>\n",
       "      <td>1</td>\n",
       "      <td>-1.329272</td>\n",
       "      <td>-0.949261</td>\n",
       "      <td>-1.132944</td>\n",
       "      <td>-0.291536</td>\n",
       "      <td>-0.514602</td>\n",
       "      <td>0.351493</td>\n",
       "    </tr>\n",
       "    <tr>\n",
       "      <th>2</th>\n",
       "      <td>1</td>\n",
       "      <td>white</td>\n",
       "      <td>e4 e5 d3 d6 Be3 c6 Be2 b5 Nd2 a5 a4 c5 axb5 Nc...</td>\n",
       "      <td>C20</td>\n",
       "      <td>King's Pawn Game: Leonardis Variation</td>\n",
       "      <td>1</td>\n",
       "      <td>0</td>\n",
       "      <td>0</td>\n",
       "      <td>0.014518</td>\n",
       "      <td>-0.349292</td>\n",
       "      <td>-0.310038</td>\n",
       "      <td>-0.648908</td>\n",
       "      <td>-0.514602</td>\n",
       "      <td>0.351493</td>\n",
       "    </tr>\n",
       "  </tbody>\n",
       "</table>\n",
       "</div>"
      ],
      "text/plain": [
       "   rated winner                                              moves  \\\n",
       "0      0  white  d4 d5 c4 c6 cxd5 e6 dxe6 fxe6 Nf3 Bb4+ Nc3 Ba5...   \n",
       "1      1  black  d4 Nc6 e4 e5 f4 f6 dxe5 fxe5 fxe5 Nxe5 Qd4 Nc6...   \n",
       "2      1  white  e4 e5 d3 d6 Be3 c6 Be2 b5 Nd2 a5 a4 c5 axb5 Nc...   \n",
       "\n",
       "  opening_eco                            opening_name  victory_status_mate  \\\n",
       "0         D10        Slav Defense: Exchange Variation                    0   \n",
       "1         B00  Nimzowitsch Defense: Kennedy Variation                    0   \n",
       "2         C20   King's Pawn Game: Leonardis Variation                    1   \n",
       "\n",
       "   victory_status_outoftime  victory_status_resign     turns  white_rating  \\\n",
       "0                         1                      0 -1.418858     -0.335500   \n",
       "1                         0                      1 -1.329272     -0.949261   \n",
       "2                         0                      0  0.014518     -0.349292   \n",
       "\n",
       "   black_rating  opening_ply  time_allotted  increment  \n",
       "0     -1.373962     0.065835       0.071153  -0.227871  \n",
       "1     -1.132944    -0.291536      -0.514602   0.351493  \n",
       "2     -0.310038    -0.648908      -0.514602   0.351493  "
      ]
     },
     "execution_count": 83,
     "metadata": {},
     "output_type": "execute_result"
    }
   ],
   "source": [
    "#first dropping the numeric columns and then adding their standardized version back\n",
    "df2 = df.drop(columns=numeric_cols).join(stand_df)\n",
    "df2.head(3)"
   ]
  },
  {
   "cell_type": "markdown",
   "metadata": {},
   "source": [
    "## Handling the Text Columns\n",
    "\n",
    "The features with text data are the `moves`, `opening_eco`, and `opening_name` columns. We need to tokenize them for modelling."
   ]
  },
  {
   "cell_type": "code",
   "execution_count": 84,
   "metadata": {},
   "outputs": [],
   "source": [
    "#we will use the count vectorizer method\n",
    "cv = CountVectorizer()\n",
    "\n",
    "cv_trans = cv.fit_transform(df2['moves'])"
   ]
  },
  {
   "cell_type": "code",
   "execution_count": 85,
   "metadata": {},
   "outputs": [],
   "source": [
    "cv_df = pd.DataFrame(cv_trans.toarray(), columns=cv.get_feature_names()).add_prefix('Counts_')"
   ]
  },
  {
   "cell_type": "code",
   "execution_count": 86,
   "metadata": {},
   "outputs": [],
   "source": [
    "#making a new dataframe with the vectorized features of the moves column\n",
    "df3 = pd.concat([df2, cv_df], axis=1)"
   ]
  },
  {
   "cell_type": "code",
   "execution_count": 87,
   "metadata": {},
   "outputs": [],
   "source": [
    "#now lets drop the moves column\n",
    "df3.drop(columns=['moves'], inplace=True)"
   ]
  },
  {
   "cell_type": "markdown",
   "metadata": {},
   "source": [
    "Next let's deal with the opening columns. Let's do a bit of EDA on them first. Since we know the `opening_eco` is an umbrella code for the types of openings that appear in `opening_name`, it may be redundant to have both of these columns. We also saw that from the previous EDA notebook, values in the `opening_eco` column tend to correspond to values in the `opening_name` column that have the same first few word before the column, indicating the type of opening move. We can see this again here."
   ]
  },
  {
   "cell_type": "code",
   "execution_count": 88,
   "metadata": {},
   "outputs": [
    {
     "data": {
      "text/html": [
       "<div>\n",
       "<style scoped>\n",
       "    .dataframe tbody tr th:only-of-type {\n",
       "        vertical-align: middle;\n",
       "    }\n",
       "\n",
       "    .dataframe tbody tr th {\n",
       "        vertical-align: top;\n",
       "    }\n",
       "\n",
       "    .dataframe thead th {\n",
       "        text-align: right;\n",
       "    }\n",
       "</style>\n",
       "<table border=\"1\" class=\"dataframe\">\n",
       "  <thead>\n",
       "    <tr style=\"text-align: right;\">\n",
       "      <th></th>\n",
       "      <th>opening_name</th>\n",
       "      <th>opening_eco</th>\n",
       "    </tr>\n",
       "  </thead>\n",
       "  <tbody>\n",
       "    <tr>\n",
       "      <th>0</th>\n",
       "      <td>Slav Defense: Exchange Variation</td>\n",
       "      <td>D10</td>\n",
       "    </tr>\n",
       "    <tr>\n",
       "      <th>26</th>\n",
       "      <td>Slav Defense</td>\n",
       "      <td>D10</td>\n",
       "    </tr>\n",
       "    <tr>\n",
       "      <th>396</th>\n",
       "      <td>Slav Defense</td>\n",
       "      <td>D10</td>\n",
       "    </tr>\n",
       "    <tr>\n",
       "      <th>554</th>\n",
       "      <td>Slav Defense #2</td>\n",
       "      <td>D10</td>\n",
       "    </tr>\n",
       "    <tr>\n",
       "      <th>611</th>\n",
       "      <td>Slav Defense: Exchange Variation</td>\n",
       "      <td>D10</td>\n",
       "    </tr>\n",
       "  </tbody>\n",
       "</table>\n",
       "</div>"
      ],
      "text/plain": [
       "                         opening_name opening_eco\n",
       "0    Slav Defense: Exchange Variation         D10\n",
       "26                       Slav Defense         D10\n",
       "396                      Slav Defense         D10\n",
       "554                   Slav Defense #2         D10\n",
       "611  Slav Defense: Exchange Variation         D10"
      ]
     },
     "execution_count": 88,
     "metadata": {},
     "output_type": "execute_result"
    }
   ],
   "source": [
    "df3[['opening_name', 'opening_eco']][df3['opening_eco'] == 'D10'].head()"
   ]
  },
  {
   "cell_type": "markdown",
   "metadata": {},
   "source": [
    "From the previous notebook we know there are 365 unique values in the `opening_eco` column, so if there are also 365 unique values when just considering the first part of the `opening_name` column, then perhaps we don't need the `opening_eco` column. Most of these 'first part' values from the `opening_name` columns are before the colon. So let's split the strings on the colon, and see how many unique values of these there are. "
   ]
  },
  {
   "cell_type": "code",
   "execution_count": 89,
   "metadata": {},
   "outputs": [
    {
     "data": {
      "text/plain": [
       "227"
      ]
     },
     "execution_count": 89,
     "metadata": {},
     "output_type": "execute_result"
    }
   ],
   "source": [
    "opening_dct = {}\n",
    "for opening in df['opening_name'].str.split(':'):\n",
    "    initial_name = opening[0]\n",
    "    \n",
    "    if initial_name in opening_dct:\n",
    "        opening_dct[initial_name] += 1\n",
    "    else:\n",
    "        opening_dct[initial_name] = 1\n",
    "        \n",
    "len(opening_dct)"
   ]
  },
  {
   "cell_type": "markdown",
   "metadata": {},
   "source": [
    "227 is significantly lower than 365. The discrepency probably comes from not always having a colon, or maybe having multiple colons. We could also try frequency encoding. For this we would ideally want each feature value to occur a different number of times when compared to other values. This means the frequency occurence of each feature value should be close to unqiue. Let's check this with the counter function.\n"
   ]
  },
  {
   "cell_type": "code",
   "execution_count": 129,
   "metadata": {},
   "outputs": [
    {
     "name": "stdout",
     "output_type": "stream",
     "text": [
      "dict_values([1, 1, 1, 1, 1, 1, 1, 1, 1, 1, 1, 1, 1, 1, 1, 1, 1, 1, 2, 1, 1, 1, 1, 1, 1, 1, 2, 1, 1, 1, 1, 1, 1, 1, 1, 1, 1, 1, 1, 1, 1, 1, 1, 1, 1, 1, 1, 1, 1, 1, 1, 1, 3, 2, 1, 3, 2, 1, 1, 2, 1, 1, 1, 1, 3, 1, 2, 1, 1, 2, 2, 1, 1, 1, 2, 1, 3, 4, 2, 2, 5, 3, 3, 3, 2, 6, 1, 4, 3, 3, 5, 7, 3, 5, 8, 3, 3, 7, 4, 3, 5, 10, 15, 15, 15, 22, 21, 28, 51])\n"
     ]
    }
   ],
   "source": [
    "#counting the number of times a value_count occurs. \n",
    "#If more than 1, then that means there are more than 1 feature values that have the same fequency occurence\n",
    "freq_count = Counter(df['opening_eco'].value_counts())\n",
    "\n",
    "print(freq_count.values())"
   ]
  },
  {
   "cell_type": "markdown",
   "metadata": {},
   "source": [
    "It looks like too many variables have the same frequency count, so proably best not to do a frequency encoding. In any case, let's just vectorize these like the `moves` column now."
   ]
  },
  {
   "cell_type": "code",
   "execution_count": 90,
   "metadata": {},
   "outputs": [],
   "source": [
    "cv = CountVectorizer()\n",
    "\n",
    "cv_trans = cv.fit_transform(df2['opening_eco'])\n",
    "\n",
    "cv_eco = pd.DataFrame(cv_trans.toarray(), columns=cv.get_feature_names()).add_prefix('Counts_')\n",
    "\n",
    "df3 = pd.concat([df3, cv_eco], axis=1)\n",
    "\n",
    "df3.drop(columns=['opening_eco'], inplace=True)"
   ]
  },
  {
   "cell_type": "markdown",
   "metadata": {},
   "source": [
    "Before doing this to the `opening_name` column, let's count how many words are in the the string before and after the column. The reason for doing this is to get th parameter for the n_grams in the count vectorizer."
   ]
  },
  {
   "cell_type": "code",
   "execution_count": 91,
   "metadata": {},
   "outputs": [
    {
     "data": {
      "text/plain": [
       "{2: 20850,\n",
       " 3: 7214,\n",
       " 6: 1619,\n",
       " 7: 749,\n",
       " 8: 288,\n",
       " 10: 122,\n",
       " 5: 249,\n",
       " 4: 241,\n",
       " 12: 61,\n",
       " 1: 155,\n",
       " 11: 60,\n",
       " 9: 15,\n",
       " 13: 9}"
      ]
     },
     "execution_count": 91,
     "metadata": {},
     "output_type": "execute_result"
    }
   ],
   "source": [
    "#initializing empty dict for counting\n",
    "count_dct = {}\n",
    "\n",
    "for opening in df['opening_name'].str.split(':'):\n",
    "    #splitting the part of the string before the colon, to see how many words it has\n",
    "    #getting rid of leading and ending whitespace\n",
    "    l_str = opening[0].lstrip().rstrip()\n",
    "    #getting the number of words in the string\n",
    "    l = len(l_str.split(' '))\n",
    "    #adding the count to the dict\n",
    "    if l in count_dct:\n",
    "        count_dct[l] += 1\n",
    "    else:\n",
    "        count_dct[l] = 1\n",
    "    \n",
    "    #repeating above for the words after the column, if there are any (hence the if statement)\n",
    "    if len(opening) >= 2:\n",
    "        #there seems to be some white space so lets get rid of it\n",
    "        r_str = opening[1].lstrip().rstrip()\n",
    "        r = len(r_str.split(' '))\n",
    "        if r in count_dct:\n",
    "            count_dct[r] += 1\n",
    "        else:\n",
    "            count_dct[r] = 1\n",
    "    \n",
    "count_dct"
   ]
  },
  {
   "cell_type": "markdown",
   "metadata": {},
   "source": [
    "Seems like there are a lot of strings with two and three words, so lets put that in."
   ]
  },
  {
   "cell_type": "code",
   "execution_count": 92,
   "metadata": {},
   "outputs": [],
   "source": [
    "cv = CountVectorizer(ngram_range = (1, 3))\n",
    "\n",
    "cv_trans = cv.fit_transform(df2['opening_eco'])\n",
    "\n",
    "cv_name = pd.DataFrame(cv_trans.toarray(), columns=cv.get_feature_names()).add_prefix('Counts_name_')\n",
    "\n",
    "df3 = pd.concat([df3, cv_name], axis=1)\n",
    "\n",
    "df3.drop(columns=['opening_name'], inplace=True)"
   ]
  },
  {
   "cell_type": "code",
   "execution_count": 93,
   "metadata": {},
   "outputs": [
    {
     "data": {
      "text/html": [
       "<div>\n",
       "<style scoped>\n",
       "    .dataframe tbody tr th:only-of-type {\n",
       "        vertical-align: middle;\n",
       "    }\n",
       "\n",
       "    .dataframe tbody tr th {\n",
       "        vertical-align: top;\n",
       "    }\n",
       "\n",
       "    .dataframe thead th {\n",
       "        text-align: right;\n",
       "    }\n",
       "</style>\n",
       "<table border=\"1\" class=\"dataframe\">\n",
       "  <thead>\n",
       "    <tr style=\"text-align: right;\">\n",
       "      <th></th>\n",
       "      <th>rated</th>\n",
       "      <th>winner</th>\n",
       "      <th>victory_status_mate</th>\n",
       "      <th>victory_status_outoftime</th>\n",
       "      <th>victory_status_resign</th>\n",
       "      <th>turns</th>\n",
       "      <th>white_rating</th>\n",
       "      <th>black_rating</th>\n",
       "      <th>opening_ply</th>\n",
       "      <th>time_allotted</th>\n",
       "      <th>...</th>\n",
       "      <th>Counts_name_e81</th>\n",
       "      <th>Counts_name_e87</th>\n",
       "      <th>Counts_name_e88</th>\n",
       "      <th>Counts_name_e90</th>\n",
       "      <th>Counts_name_e91</th>\n",
       "      <th>Counts_name_e92</th>\n",
       "      <th>Counts_name_e94</th>\n",
       "      <th>Counts_name_e95</th>\n",
       "      <th>Counts_name_e97</th>\n",
       "      <th>Counts_name_e98</th>\n",
       "    </tr>\n",
       "  </thead>\n",
       "  <tbody>\n",
       "    <tr>\n",
       "      <th>0</th>\n",
       "      <td>0</td>\n",
       "      <td>white</td>\n",
       "      <td>0</td>\n",
       "      <td>1</td>\n",
       "      <td>0</td>\n",
       "      <td>-1.418858</td>\n",
       "      <td>-0.335500</td>\n",
       "      <td>-1.373962</td>\n",
       "      <td>0.065835</td>\n",
       "      <td>0.071153</td>\n",
       "      <td>...</td>\n",
       "      <td>0</td>\n",
       "      <td>0</td>\n",
       "      <td>0</td>\n",
       "      <td>0</td>\n",
       "      <td>0</td>\n",
       "      <td>0</td>\n",
       "      <td>0</td>\n",
       "      <td>0</td>\n",
       "      <td>0</td>\n",
       "      <td>0</td>\n",
       "    </tr>\n",
       "    <tr>\n",
       "      <th>1</th>\n",
       "      <td>1</td>\n",
       "      <td>black</td>\n",
       "      <td>0</td>\n",
       "      <td>0</td>\n",
       "      <td>1</td>\n",
       "      <td>-1.329272</td>\n",
       "      <td>-0.949261</td>\n",
       "      <td>-1.132944</td>\n",
       "      <td>-0.291536</td>\n",
       "      <td>-0.514602</td>\n",
       "      <td>...</td>\n",
       "      <td>0</td>\n",
       "      <td>0</td>\n",
       "      <td>0</td>\n",
       "      <td>0</td>\n",
       "      <td>0</td>\n",
       "      <td>0</td>\n",
       "      <td>0</td>\n",
       "      <td>0</td>\n",
       "      <td>0</td>\n",
       "      <td>0</td>\n",
       "    </tr>\n",
       "    <tr>\n",
       "      <th>2</th>\n",
       "      <td>1</td>\n",
       "      <td>white</td>\n",
       "      <td>1</td>\n",
       "      <td>0</td>\n",
       "      <td>0</td>\n",
       "      <td>0.014518</td>\n",
       "      <td>-0.349292</td>\n",
       "      <td>-0.310038</td>\n",
       "      <td>-0.648908</td>\n",
       "      <td>-0.514602</td>\n",
       "      <td>...</td>\n",
       "      <td>0</td>\n",
       "      <td>0</td>\n",
       "      <td>0</td>\n",
       "      <td>0</td>\n",
       "      <td>0</td>\n",
       "      <td>0</td>\n",
       "      <td>0</td>\n",
       "      <td>0</td>\n",
       "      <td>0</td>\n",
       "      <td>0</td>\n",
       "    </tr>\n",
       "  </tbody>\n",
       "</table>\n",
       "<p>3 rows × 3429 columns</p>\n",
       "</div>"
      ],
      "text/plain": [
       "   rated winner  victory_status_mate  victory_status_outoftime  \\\n",
       "0      0  white                    0                         1   \n",
       "1      1  black                    0                         0   \n",
       "2      1  white                    1                         0   \n",
       "\n",
       "   victory_status_resign     turns  white_rating  black_rating  opening_ply  \\\n",
       "0                      0 -1.418858     -0.335500     -1.373962     0.065835   \n",
       "1                      1 -1.329272     -0.949261     -1.132944    -0.291536   \n",
       "2                      0  0.014518     -0.349292     -0.310038    -0.648908   \n",
       "\n",
       "   time_allotted  ...  Counts_name_e81  Counts_name_e87  Counts_name_e88  \\\n",
       "0       0.071153  ...                0                0                0   \n",
       "1      -0.514602  ...                0                0                0   \n",
       "2      -0.514602  ...                0                0                0   \n",
       "\n",
       "   Counts_name_e90  Counts_name_e91  Counts_name_e92  Counts_name_e94  \\\n",
       "0                0                0                0                0   \n",
       "1                0                0                0                0   \n",
       "2                0                0                0                0   \n",
       "\n",
       "   Counts_name_e95  Counts_name_e97  Counts_name_e98  \n",
       "0                0                0                0  \n",
       "1                0                0                0  \n",
       "2                0                0                0  \n",
       "\n",
       "[3 rows x 3429 columns]"
      ]
     },
     "execution_count": 93,
     "metadata": {},
     "output_type": "execute_result"
    }
   ],
   "source": [
    "df3.head(3)"
   ]
  },
  {
   "cell_type": "markdown",
   "metadata": {},
   "source": [
    "## Encoding the Target\n",
    "\n",
    "With all the features properly handled, all thats left is the target variable. We just need to use a label encoder to encode it as it is a categorical variable with three categories, which are:"
   ]
  },
  {
   "cell_type": "code",
   "execution_count": 94,
   "metadata": {},
   "outputs": [
    {
     "data": {
      "text/plain": [
       "array(['white', 'black', 'draw'], dtype=object)"
      ]
     },
     "execution_count": 94,
     "metadata": {},
     "output_type": "execute_result"
    }
   ],
   "source": [
    "df3['winner'].unique()"
   ]
  },
  {
   "cell_type": "code",
   "execution_count": 95,
   "metadata": {},
   "outputs": [],
   "source": [
    "#label encoder will turn categories into integers, which is neccessary for some algorithms\n",
    "le = LabelEncoder()"
   ]
  },
  {
   "cell_type": "code",
   "execution_count": 96,
   "metadata": {},
   "outputs": [
    {
     "data": {
      "text/plain": [
       "LabelEncoder()"
      ]
     },
     "execution_count": 96,
     "metadata": {},
     "output_type": "execute_result"
    }
   ],
   "source": [
    "le.fit(df3['winner'])"
   ]
  },
  {
   "cell_type": "code",
   "execution_count": 97,
   "metadata": {},
   "outputs": [
    {
     "data": {
      "text/plain": [
       "array(['black', 'draw', 'white'], dtype=object)"
      ]
     },
     "execution_count": 97,
     "metadata": {},
     "output_type": "execute_result"
    }
   ],
   "source": [
    "le.classes_"
   ]
  },
  {
   "cell_type": "code",
   "execution_count": 98,
   "metadata": {},
   "outputs": [],
   "source": [
    "labels = le.transform(df3['winner'])"
   ]
  },
  {
   "cell_type": "code",
   "execution_count": 99,
   "metadata": {},
   "outputs": [],
   "source": [
    "labels_df = pd.DataFrame(labels)\n",
    "\n",
    "#rename the column\n",
    "labels_df.rename(columns={0: 'winner_label'}, inplace=True)\n",
    "\n",
    "#put dataframes together\n",
    "df3 = pd.concat([df3, labels_df], axis=1)\n",
    "\n",
    "df3.drop(columns=['winner'], inplace=True)"
   ]
  },
  {
   "cell_type": "markdown",
   "metadata": {},
   "source": [
    "## Training and Testing Sets\n",
    "\n",
    "With all the data pre-processed, we can split the data into training and testing splits."
   ]
  },
  {
   "cell_type": "code",
   "execution_count": 106,
   "metadata": {},
   "outputs": [],
   "source": [
    "#features to train on\n",
    "X = df3.drop(columns=['winner_label'])\n",
    "\n",
    "#taget variable\n",
    "y = df3['winner_label']"
   ]
  },
  {
   "cell_type": "code",
   "execution_count": 107,
   "metadata": {},
   "outputs": [],
   "source": [
    "X_train, X_test, y_train, y_test = train_test_split(X, y, test_size=0.25, random_state=42)"
   ]
  },
  {
   "cell_type": "code",
   "execution_count": 110,
   "metadata": {},
   "outputs": [],
   "source": [
    "#getting our dataframes back so we can save them for the next notebook\n",
    "train_df = pd.concat([X_train, y_train], axis=1)\n",
    "test_df = pd.concat([X_test, y_test], axis=1)"
   ]
  },
  {
   "cell_type": "code",
   "execution_count": 114,
   "metadata": {},
   "outputs": [],
   "source": [
    "#saving them as pickle files\n",
    "train_df.to_pickle('train_df.pkl')\n",
    "test_df.to_pickle('train_df.pkl')"
   ]
  },
  {
   "cell_type": "markdown",
   "metadata": {},
   "source": [
    "## Summary\n",
    "\n",
    "To sum up, in this notebook we turn categorical variables by either label encoding them or one-hot encoding them. Then we made sure all numeric columns follow some sort of normal distribution, before standardizing them. And finally, we vectorized the text columns, before splitting and saving the final pre-processed dataframe as pickle files."
   ]
  }
 ],
 "metadata": {
  "kernelspec": {
   "display_name": "Python 3",
   "language": "python",
   "name": "python3"
  },
  "language_info": {
   "codemirror_mode": {
    "name": "ipython",
    "version": 3
   },
   "file_extension": ".py",
   "mimetype": "text/x-python",
   "name": "python",
   "nbconvert_exporter": "python",
   "pygments_lexer": "ipython3",
   "version": "3.8.5"
  }
 },
 "nbformat": 4,
 "nbformat_minor": 4
}
